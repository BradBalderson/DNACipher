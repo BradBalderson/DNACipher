{
  "cells": [
    {
      "cell_type": "markdown",
      "id": "748954fc",
      "metadata": {
        "id": "748954fc"
      },
      "source": [
        "# DNACipher inference\n",
        "\n",
        "Welcome to the inference tutorial for DNACipher, which performs double imputation, i.e. infers variant effects for both unseen sequences and unseen cell type assay combinations (based on a Pytorch model that learns the relationship between sequence, celltype, and assay, enabling any combination of these inputs to infer variant effect). This is visualisation as below:\n",
        "\n",
        "***Know the image display won't work yet, will when made public the github repo...***\n",
        "![My Image](https://github.com/BradBalderson/MRFF/blob/main/img/X1_schematic.png)"
      ]
    },
    {
      "cell_type": "markdown",
      "id": "6929bb0b",
      "metadata": {
        "id": "6929bb0b"
      },
      "source": [
        "# Environment Setup"
      ]
    },
    {
      "cell_type": "markdown",
      "source": [
        "Downloaded the MRFF repo as a zip folder: https://github.com/BradBalderson/MRFF\n",
        "\n",
        "First go to google drive and upload the zip file: https://drive.google.com/drive/my-drive"
      ],
      "metadata": {
        "id": "XefVdMHDc4__"
      },
      "id": "XefVdMHDc4__"
    },
    {
      "cell_type": "code",
      "source": [
        "#### Mounting the drive\n",
        "from google.colab import drive\n",
        "drive.mount('/content/drive')"
      ],
      "metadata": {
        "colab": {
          "base_uri": "https://localhost:8080/"
        },
        "id": "tSXYnjDNdkpY",
        "outputId": "fdb90fe0-2751-4cba-b242-1b31653afc2b"
      },
      "id": "tSXYnjDNdkpY",
      "execution_count": 1,
      "outputs": [
        {
          "output_type": "stream",
          "name": "stdout",
          "text": [
            "Mounted at /content/drive\n"
          ]
        }
      ]
    },
    {
      "cell_type": "code",
      "source": [
        "!unzip /content/drive/MyDrive/MRFF-main.zip"
      ],
      "metadata": {
        "colab": {
          "base_uri": "https://localhost:8080/"
        },
        "id": "N6CNBnE8dqcf",
        "outputId": "371a64dc-da59-4fb4-825a-db44cc7afe72"
      },
      "id": "N6CNBnE8dqcf",
      "execution_count": 2,
      "outputs": [
        {
          "output_type": "stream",
          "name": "stdout",
          "text": [
            "Archive:  /content/drive/MyDrive/MRFF-main.zip\n",
            "5245b20209748f85ee54af91a102b2914803f0f4\n",
            "   creating: MRFF-main/\n",
            "  inflating: MRFF-main/.gitignore    \n",
            " extracting: MRFF-main/.gitkeep      \n",
            "  inflating: MRFF-main/README.md     \n",
            "   creating: MRFF-main/data/\n",
            "   creating: MRFF-main/data/test_data/\n",
            "  inflating: MRFF-main/data/test_data/Index of _epimap_data_imputed.html  \n",
            "   creating: MRFF-main/data/tutorial_data/\n",
            "  inflating: MRFF-main/data/tutorial_data/TRAINPRECOMPFAST_MEAN_ENCODE_V4_AVG-GENFILT_BATCH1024_LR1e-5_EPOCH300_F1280_SMALL2_NCF6_NAF12_RELU-OUT_PEAK_LESSDROP_model_weights.pth  \n",
            "  inflating: MRFF-main/data/tutorial_data/encode_meta_encode_imputable_fixed.train-test.txt  \n",
            "  inflating: MRFF-main/data/tutorial_data/gtex_variants_SMALL.vcf  \n",
            "   creating: MRFF-main/data/variant/\n",
            " extracting: MRFF-main/data/variant/.gitkeep  \n",
            "   creating: MRFF-main/docs/\n",
            "  inflating: MRFF-main/docs/index.md  \n",
            "  inflating: MRFF-main/docs/log.md   \n",
            "  inflating: MRFF-main/docs/requirements_wiener.txt  \n",
            "   creating: MRFF-main/img/\n",
            "  inflating: MRFF-main/img/X1_schematic.png  \n",
            "   creating: MRFF-main/scripts/\n",
            "   creating: MRFF-main/scripts/enformer/\n",
            "  inflating: MRFF-main/scripts/enformer/enformer_final.ipynb  \n",
            "  inflating: MRFF-main/scripts/enformer/enformer_final_collab.ipynb  \n",
            "  inflating: MRFF-main/scripts/enformer/enformer_helpers.py  \n",
            "  inflating: MRFF-main/scripts/enformer/enformer_play.ipynb  \n",
            "  inflating: MRFF-main/scripts/enformer/enformer_play_bunya.ipynb  \n",
            "  inflating: MRFF-main/scripts/enformer/enformer_pred_analysis.ipynb  \n",
            "  inflating: MRFF-main/scripts/enformer/enformer_pred_analysis_V1.ipynb  \n",
            "  inflating: MRFF-main/scripts/enformer/enformer_pytorch.ipynb  \n",
            "  inflating: MRFF-main/scripts/enformer/run_enformer_gtex_variants.py  \n",
            "   creating: MRFF-main/scripts/gwas/\n",
            "  inflating: MRFF-main/scripts/gwas/gwas_catalog.ipynb  \n",
            "   creating: MRFF-main/scripts/hmm_bias/\n",
            "  inflating: MRFF-main/scripts/hmm_bias/ExampleAnalysis.R  \n",
            "  inflating: MRFF-main/scripts/hmm_bias/WrapperFunctions.R  \n",
            "  inflating: MRFF-main/scripts/hmm_bias/check_encode_replication.ipynb  \n",
            "  inflating: MRFF-main/scripts/hmm_bias/run_encode_regional-bias.R  \n",
            "  inflating: MRFF-main/scripts/hmm_bias/run_encode_regional-bias_within_expers.R  \n",
            "  inflating: MRFF-main/scripts/hmm_bias/select_encode_for_DNACipher.ipynb  \n",
            "  inflating: MRFF-main/scripts/hmm_bias/select_encode_for_HMM-bias.ipynb  \n",
            "  inflating: MRFF-main/scripts/hmm_bias/vis_encode_regional_bias.ipynb  \n",
            "   creating: MRFF-main/scripts/init_eda/\n",
            "  inflating: MRFF-main/scripts/init_eda/epimap_eda.ipynb  \n",
            "  inflating: MRFF-main/scripts/init_eda/epimap_eda_partial.ipynb  \n",
            "  inflating: MRFF-main/scripts/init_eda/epimap_eda_test.ipynb  \n",
            "  inflating: MRFF-main/scripts/init_eda/epimap_gwas_eda-Copy1.ipynb  \n",
            "  inflating: MRFF-main/scripts/init_eda/epimap_gwas_eda-Copy2.ipynb  \n",
            "  inflating: MRFF-main/scripts/init_eda/epimap_gwas_eda.ipynb  \n",
            "  inflating: MRFF-main/scripts/init_eda/epimap_gwas_trait-counts_eda.ipynb  \n",
            "  inflating: MRFF-main/scripts/init_eda/epimap_preprocess-Version1.ipynb  \n",
            "  inflating: MRFF-main/scripts/init_eda/epimap_preprocess-Version2.ipynb  \n",
            "  inflating: MRFF-main/scripts/init_eda/epimap_preprocess-original_uncleaned.ipynb  \n",
            "  inflating: MRFF-main/scripts/init_eda/epimap_preprocess.ipynb  \n",
            "  inflating: MRFF-main/scripts/init_eda/epimap_preprocess_test.ipynb  \n",
            "  inflating: MRFF-main/scripts/init_eda/eval_genomedata.ipynb  \n",
            "  inflating: MRFF-main/scripts/init_eda/junk_code.py  \n",
            "   creating: MRFF-main/scripts/kidgen_variants/\n",
            "  inflating: MRFF-main/scripts/kidgen_variants/kidgen_epimap_test.ipynb  \n",
            "  inflating: MRFF-main/scripts/kidgen_variants/kidgen_test.ipynb  \n",
            "   creating: MRFF-main/scripts/seqcipher/\n",
            "  inflating: MRFF-main/scripts/seqcipher/DNACipher_inference.ipynb  \n",
            "  inflating: MRFF-main/scripts/seqcipher/DNACipher_inference_collab.ipynb  \n",
            "  inflating: MRFF-main/scripts/seqcipher/DNACipher_tests.sh  \n",
            "  inflating: MRFF-main/scripts/seqcipher/NT_latent_explore.ipynb  \n",
            "  inflating: MRFF-main/scripts/seqcipher/TRAINPRECOMP0_0_DNACipher_check.ipynb  \n",
            "  inflating: MRFF-main/scripts/seqcipher/TRAINPRECOMPFAST_V4_MID20K_BATCH100_LR1e-1_EPOCH4_F400_SH_check.ipynb  \n",
            "  inflating: MRFF-main/scripts/seqcipher/TRAINPRECOMP_LOCAL_DNACipher_check.ipynb  \n",
            "  inflating: MRFF-main/scripts/seqcipher/TRAINPRECOMP_MID_DNACipher_check.ipynb  \n",
            "  inflating: MRFF-main/scripts/seqcipher/TRAINPRECOMP_TOKENLOCAL_DNACipher_Check.ipynb  \n",
            "  inflating: MRFF-main/scripts/seqcipher/analyse_DNACipher_tests.ipynb  \n",
            "  inflating: MRFF-main/scripts/seqcipher/check_precompute.py  \n",
            "  inflating: MRFF-main/scripts/seqcipher/cutoff_check.ipynb  \n",
            "  inflating: MRFF-main/scripts/seqcipher/embeds_precomp.sh  \n",
            "  inflating: MRFF-main/scripts/seqcipher/encode_meta_select_DNACipher_peaks.md  \n",
            "  inflating: MRFF-main/scripts/seqcipher/encode_select_for_DNACipher.ipynb  \n",
            "  inflating: MRFF-main/scripts/seqcipher/encode_select_for_DNACipher_peaks.ipynb  \n",
            "   creating: MRFF-main/scripts/seqcipher/helpers/\n",
            "  inflating: MRFF-main/scripts/seqcipher/helpers/avo_model_pytorch.py  \n",
            "  inflating: MRFF-main/scripts/seqcipher/helpers/benchmark_helpers.py  \n",
            "  inflating: MRFF-main/scripts/seqcipher/helpers/dna_cipher.py  \n",
            "  inflating: MRFF-main/scripts/seqcipher/helpers/dna_cipher_infer.py  \n",
            "  inflating: MRFF-main/scripts/seqcipher/helpers/dna_cipher_regions.py  \n",
            "  inflating: MRFF-main/scripts/seqcipher/helpers/dna_cipher_v2.py  \n",
            "  inflating: MRFF-main/scripts/seqcipher/helpers/dna_cipher_v3.py  \n",
            "  inflating: MRFF-main/scripts/seqcipher/helpers/dna_cipher_v4.py  \n",
            "  inflating: MRFF-main/scripts/seqcipher/helpers/io.py  \n",
            "  inflating: MRFF-main/scripts/seqcipher/helpers/run_DNACipher_WeinerGPU.py  \n",
            "  inflating: MRFF-main/scripts/seqcipher/helpers/transform.py  \n",
            "  inflating: MRFF-main/scripts/seqcipher/helpers/xgboost_helpers.py  \n",
            "  inflating: MRFF-main/scripts/seqcipher/longTest1_DNACipher_check.ipynb  \n",
            "  inflating: MRFF-main/scripts/seqcipher/normalise_bigwig.py  \n",
            "  inflating: MRFF-main/scripts/seqcipher/optimise_dataloader.py  \n",
            "  inflating: MRFF-main/scripts/seqcipher/precompute_NT_average_embeddings.py  \n",
            "  inflating: MRFF-main/scripts/seqcipher/precompute_NT_embeddings.py  \n",
            "  inflating: MRFF-main/scripts/seqcipher/run_DNACipher.py  \n",
            "  inflating: MRFF-main/scripts/seqcipher/run_DNACipher_WeinerGPU.sh  \n",
            "  inflating: MRFF-main/scripts/seqcipher/run_DNACipher_WeinerGPU_wLayerNorm.sh  \n",
            "  inflating: MRFF-main/scripts/seqcipher/run_DNACipher_precomp.py  \n",
            "  inflating: MRFF-main/scripts/seqcipher/run_DNACipher_precomp.sh  \n",
            "  inflating: MRFF-main/scripts/seqcipher/run_DNACipher_precomp_small-dataset.py  \n",
            "  inflating: MRFF-main/scripts/seqcipher/run_DNACipher_precomp_small-dataset.sh  \n",
            "  inflating: MRFF-main/scripts/seqcipher/run_DNACipher_precomp_v2.sh  \n",
            "  inflating: MRFF-main/scripts/seqcipher/run_XGBoost.py  \n",
            "  inflating: MRFF-main/scripts/seqcipher/run_XGBoost.sh  \n",
            "  inflating: MRFF-main/scripts/seqcipher/run_dnacipher_inference.py  \n",
            "  inflating: MRFF-main/scripts/seqcipher/run_dnacipher_inference.sh  \n",
            "  inflating: MRFF-main/scripts/seqcipher/run_embed_precomp.sh  \n",
            "  inflating: MRFF-main/scripts/seqcipher/run_pca.py  \n",
            "  inflating: MRFF-main/scripts/seqcipher/run_pca.sh  \n",
            "  inflating: MRFF-main/scripts/seqcipher/run_precomp_checks.sh  \n",
            "  inflating: MRFF-main/scripts/seqcipher/run_zscore.py  \n",
            "  inflating: MRFF-main/scripts/seqcipher/run_zscore.sh  \n",
            "  inflating: MRFF-main/scripts/seqcipher/scratch_UMAP_check.py  \n",
            "  inflating: MRFF-main/scripts/seqcipher/split_h5.py  \n",
            "  inflating: MRFF-main/scripts/seqcipher/split_h5.sh  \n",
            "  inflating: MRFF-main/scripts/seqcipher/test_DNACipher.ipynb  \n",
            "  inflating: MRFF-main/scripts/seqcipher/test_DNACipher_BatchLoading.ipynb  \n",
            "  inflating: MRFF-main/scripts/seqcipher/test_DNACipher_BatchLoading_WeinerGPU.py  \n",
            "  inflating: MRFF-main/scripts/seqcipher/test_DNACipher_BatchLoading_WeinerGPU_vis.ipynb  \n",
            "  inflating: MRFF-main/scripts/seqcipher/test_DNACipher_M2GPU.ipynb  \n",
            "  inflating: MRFF-main/scripts/seqcipher/test_DNACipher_WeinerGPU.py  \n",
            "  inflating: MRFF-main/scripts/seqcipher/test_DNACipher_wDebugging.ipynb  \n",
            "  inflating: MRFF-main/scripts/seqcipher/test_avocado.ipynb  \n",
            "  inflating: MRFF-main/scripts/seqcipher/test_avocado_pytorch.ipynb  \n",
            "  inflating: MRFF-main/scripts/seqcipher/test_avocado_pytorch_bunya.ipynb  \n",
            "  inflating: MRFF-main/scripts/seqcipher/test_avocado_pytorch_bunya_proper_train.ipynb  \n",
            "  inflating: MRFF-main/scripts/seqcipher/test_avocado_train.ipynb  \n",
            "   creating: MRFF-main/scripts/seqcipher/validation/\n",
            "  inflating: MRFF-main/scripts/seqcipher/validation/chen2016.md  \n",
            "  inflating: MRFF-main/scripts/seqcipher/validation/chen_vcf.ipynb  \n",
            "  inflating: MRFF-main/scripts/seqcipher/validation/dnacipher_infer_dev.py  \n",
            "  inflating: MRFF-main/scripts/seqcipher/validation/map_tissues.ipynb  \n",
            "  inflating: MRFF-main/scripts/seqcipher/validation/process_chen.ipynb  \n",
            "  inflating: MRFF-main/scripts/seqcipher/validation/process_gtex.ipynb  \n"
          ]
        }
      ]
    },
    {
      "cell_type": "code",
      "source": [
        "!ls"
      ],
      "metadata": {
        "colab": {
          "base_uri": "https://localhost:8080/"
        },
        "id": "9vM6jy5fdTW1",
        "outputId": "47f3932d-b2de-4bd7-eacd-5b7a2880d33f"
      },
      "id": "9vM6jy5fdTW1",
      "execution_count": 3,
      "outputs": [
        {
          "output_type": "stream",
          "name": "stdout",
          "text": [
            "drive  MRFF-main  sample_data\n"
          ]
        }
      ]
    },
    {
      "cell_type": "code",
      "source": [
        "work_dir = 'MRFF-main/'\n",
        "import os, sys\n",
        "os.chdir(work_dir)"
      ],
      "metadata": {
        "id": "1U0n0PiKeOaj"
      },
      "id": "1U0n0PiKeOaj",
      "execution_count": 4,
      "outputs": []
    },
    {
      "cell_type": "code",
      "execution_count": 5,
      "id": "a7bca55c",
      "metadata": {
        "colab": {
          "base_uri": "https://localhost:8080/"
        },
        "id": "a7bca55c",
        "outputId": "39ebb96f-c95d-4579-ba4c-43e8f1cd3d86"
      },
      "outputs": [
        {
          "output_type": "stream",
          "name": "stdout",
          "text": [
            "Collecting pyfaidx\n",
            "  Downloading pyfaidx-0.7.2.1-py3-none-any.whl (28 kB)\n",
            "Requirement already satisfied: six in /usr/local/lib/python3.10/dist-packages (from pyfaidx) (1.16.0)\n",
            "Requirement already satisfied: setuptools in /usr/local/lib/python3.10/dist-packages (from pyfaidx) (67.7.2)\n",
            "Installing collected packages: pyfaidx\n",
            "Successfully installed pyfaidx-0.7.2.1\n",
            "Collecting kipoiseq\n",
            "  Downloading kipoiseq-0.7.1-py3-none-any.whl (44 kB)\n",
            "\u001b[2K     \u001b[90m━━━━━━━━━━━━━━━━━━━━━━━━━━━━━━━━━━━━━━━━\u001b[0m \u001b[32m44.4/44.4 kB\u001b[0m \u001b[31m1.5 MB/s\u001b[0m eta \u001b[36m0:00:00\u001b[0m\n",
            "\u001b[?25hCollecting kipoi>=0.5.5 (from kipoiseq)\n",
            "  Downloading kipoi-0.8.6-py3-none-any.whl (102 kB)\n",
            "\u001b[2K     \u001b[90m━━━━━━━━━━━━━━━━━━━━━━━━━━━━━━━━━━━━━━━\u001b[0m \u001b[32m103.0/103.0 kB\u001b[0m \u001b[31m4.5 MB/s\u001b[0m eta \u001b[36m0:00:00\u001b[0m\n",
            "\u001b[?25hRequirement already satisfied: pyfaidx in /usr/local/lib/python3.10/dist-packages (from kipoiseq) (0.7.2.1)\n",
            "Requirement already satisfied: numpy in /usr/local/lib/python3.10/dist-packages (from kipoiseq) (1.23.5)\n",
            "Requirement already satisfied: pandas in /usr/local/lib/python3.10/dist-packages (from kipoiseq) (1.5.3)\n",
            "Requirement already satisfied: tqdm in /usr/local/lib/python3.10/dist-packages (from kipoiseq) (4.66.1)\n",
            "Collecting gffutils (from kipoiseq)\n",
            "  Downloading gffutils-0.12-py3-none-any.whl (1.6 MB)\n",
            "\u001b[2K     \u001b[90m━━━━━━━━━━━━━━━━━━━━━━━━━━━━━━━━━━━━━━━━\u001b[0m \u001b[32m1.6/1.6 MB\u001b[0m \u001b[31m10.9 MB/s\u001b[0m eta \u001b[36m0:00:00\u001b[0m\n",
            "\u001b[?25hCollecting kipoi-utils>=0.1.1 (from kipoiseq)\n",
            "  Downloading kipoi_utils-0.7.7-py3-none-any.whl (30 kB)\n",
            "Collecting kipoi-conda>=0.1.0 (from kipoiseq)\n",
            "  Downloading kipoi_conda-0.3.1-py3-none-any.whl (8.7 kB)\n",
            "Collecting pyranges (from kipoiseq)\n",
            "  Downloading pyranges-0.0.129-py3-none-any.whl (1.5 MB)\n",
            "\u001b[2K     \u001b[90m━━━━━━━━━━━━━━━━━━━━━━━━━━━━━━━━━━━━━━━━\u001b[0m \u001b[32m1.5/1.5 MB\u001b[0m \u001b[31m18.5 MB/s\u001b[0m eta \u001b[36m0:00:00\u001b[0m\n",
            "\u001b[?25hRequirement already satisfied: pyyaml in /usr/local/lib/python3.10/dist-packages (from kipoi>=0.5.5->kipoiseq) (6.0.1)\n",
            "Collecting related>=0.6.0 (from kipoi>=0.5.5->kipoiseq)\n",
            "  Downloading related-0.7.3-py2.py3-none-any.whl (16 kB)\n",
            "Collecting colorlog (from kipoi>=0.5.5->kipoiseq)\n",
            "  Downloading colorlog-6.7.0-py2.py3-none-any.whl (11 kB)\n",
            "Requirement already satisfied: jinja2 in /usr/local/lib/python3.10/dist-packages (from kipoi>=0.5.5->kipoiseq) (3.1.2)\n",
            "Collecting cookiecutter>=1.6.0 (from kipoi>=0.5.5->kipoiseq)\n",
            "  Downloading cookiecutter-2.3.0-py3-none-any.whl (39 kB)\n",
            "Requirement already satisfied: h5py in /usr/local/lib/python3.10/dist-packages (from kipoi>=0.5.5->kipoiseq) (3.9.0)\n",
            "Requirement already satisfied: urllib3>=1.21.1 in /usr/local/lib/python3.10/dist-packages (from kipoi>=0.5.5->kipoiseq) (2.0.4)\n",
            "Collecting tinydb (from kipoi>=0.5.5->kipoiseq)\n",
            "  Downloading tinydb-4.8.0-py3-none-any.whl (24 kB)\n",
            "Collecting deprecation>=2.0.6 (from kipoi>=0.5.5->kipoiseq)\n",
            "  Downloading deprecation-2.1.0-py2.py3-none-any.whl (11 kB)\n",
            "Collecting attrs<=21.4.0 (from kipoi>=0.5.5->kipoiseq)\n",
            "  Downloading attrs-21.4.0-py2.py3-none-any.whl (60 kB)\n",
            "\u001b[2K     \u001b[90m━━━━━━━━━━━━━━━━━━━━━━━━━━━━━━━━━━━━━━━━\u001b[0m \u001b[32m60.6/60.6 kB\u001b[0m \u001b[31m8.6 MB/s\u001b[0m eta \u001b[36m0:00:00\u001b[0m\n",
            "\u001b[?25hRequirement already satisfied: python-dateutil>=2.8.1 in /usr/local/lib/python3.10/dist-packages (from pandas->kipoiseq) (2.8.2)\n",
            "Requirement already satisfied: pytz>=2020.1 in /usr/local/lib/python3.10/dist-packages (from pandas->kipoiseq) (2023.3)\n",
            "Requirement already satisfied: six>=1.12.0 in /usr/local/lib/python3.10/dist-packages (from gffutils->kipoiseq) (1.16.0)\n",
            "Collecting argh>=0.26.2 (from gffutils->kipoiseq)\n",
            "  Downloading argh-0.28.1-py3-none-any.whl (40 kB)\n",
            "\u001b[2K     \u001b[90m━━━━━━━━━━━━━━━━━━━━━━━━━━━━━━━━━━━━━━━━\u001b[0m \u001b[32m40.5/40.5 kB\u001b[0m \u001b[31m5.7 MB/s\u001b[0m eta \u001b[36m0:00:00\u001b[0m\n",
            "\u001b[?25hCollecting argcomplete>=1.9.4 (from gffutils->kipoiseq)\n",
            "  Downloading argcomplete-3.1.1-py3-none-any.whl (41 kB)\n",
            "\u001b[2K     \u001b[90m━━━━━━━━━━━━━━━━━━━━━━━━━━━━━━━━━━━━━━━━\u001b[0m \u001b[32m41.5/41.5 kB\u001b[0m \u001b[31m5.8 MB/s\u001b[0m eta \u001b[36m0:00:00\u001b[0m\n",
            "\u001b[?25hCollecting simplejson (from gffutils->kipoiseq)\n",
            "  Downloading simplejson-3.19.1-cp310-cp310-manylinux_2_5_x86_64.manylinux1_x86_64.manylinux_2_17_x86_64.manylinux2014_x86_64.whl (137 kB)\n",
            "\u001b[2K     \u001b[90m━━━━━━━━━━━━━━━━━━━━━━━━━━━━━━━━━━━━━━\u001b[0m \u001b[32m137.9/137.9 kB\u001b[0m \u001b[31m19.7 MB/s\u001b[0m eta \u001b[36m0:00:00\u001b[0m\n",
            "\u001b[?25hRequirement already satisfied: setuptools in /usr/local/lib/python3.10/dist-packages (from pyfaidx->kipoiseq) (67.7.2)\n",
            "Collecting ncls>=0.0.63 (from pyranges->kipoiseq)\n",
            "  Downloading ncls-0.0.68-cp310-cp310-manylinux_2_17_x86_64.manylinux2014_x86_64.whl (2.4 MB)\n",
            "\u001b[2K     \u001b[90m━━━━━━━━━━━━━━━━━━━━━━━━━━━━━━━━━━━━━━━━\u001b[0m \u001b[32m2.4/2.4 MB\u001b[0m \u001b[31m16.5 MB/s\u001b[0m eta \u001b[36m0:00:00\u001b[0m\n",
            "\u001b[?25hRequirement already satisfied: tabulate in /usr/local/lib/python3.10/dist-packages (from pyranges->kipoiseq) (0.9.0)\n",
            "Collecting sorted-nearest>=0.0.33 (from pyranges->kipoiseq)\n",
            "  Downloading sorted_nearest-0.0.39-cp310-cp310-manylinux_2_17_x86_64.manylinux2014_x86_64.whl (6.0 MB)\n",
            "\u001b[2K     \u001b[90m━━━━━━━━━━━━━━━━━━━━━━━━━━━━━━━━━━━━━━━━\u001b[0m \u001b[32m6.0/6.0 MB\u001b[0m \u001b[31m17.3 MB/s\u001b[0m eta \u001b[36m0:00:00\u001b[0m\n",
            "\u001b[?25hRequirement already satisfied: natsort in /usr/local/lib/python3.10/dist-packages (from pyranges->kipoiseq) (8.4.0)\n",
            "Collecting binaryornot>=0.4.4 (from cookiecutter>=1.6.0->kipoi>=0.5.5->kipoiseq)\n",
            "  Downloading binaryornot-0.4.4-py2.py3-none-any.whl (9.0 kB)\n",
            "Requirement already satisfied: click<9.0.0,>=7.0 in /usr/local/lib/python3.10/dist-packages (from cookiecutter>=1.6.0->kipoi>=0.5.5->kipoiseq) (8.1.7)\n",
            "Requirement already satisfied: python-slugify>=4.0.0 in /usr/local/lib/python3.10/dist-packages (from cookiecutter>=1.6.0->kipoi>=0.5.5->kipoiseq) (8.0.1)\n",
            "Requirement already satisfied: requests>=2.23.0 in /usr/local/lib/python3.10/dist-packages (from cookiecutter>=1.6.0->kipoi>=0.5.5->kipoiseq) (2.31.0)\n",
            "Collecting arrow (from cookiecutter>=1.6.0->kipoi>=0.5.5->kipoiseq)\n",
            "  Downloading arrow-1.2.3-py3-none-any.whl (66 kB)\n",
            "\u001b[2K     \u001b[90m━━━━━━━━━━━━━━━━━━━━━━━━━━━━━━━━━━━━━━━━\u001b[0m \u001b[32m66.4/66.4 kB\u001b[0m \u001b[31m9.8 MB/s\u001b[0m eta \u001b[36m0:00:00\u001b[0m\n",
            "\u001b[?25hRequirement already satisfied: rich in /usr/local/lib/python3.10/dist-packages (from cookiecutter>=1.6.0->kipoi>=0.5.5->kipoiseq) (13.5.2)\n",
            "Requirement already satisfied: packaging in /usr/local/lib/python3.10/dist-packages (from deprecation>=2.0.6->kipoi>=0.5.5->kipoiseq) (23.1)\n",
            "Requirement already satisfied: MarkupSafe>=2.0 in /usr/local/lib/python3.10/dist-packages (from jinja2->kipoi>=0.5.5->kipoiseq) (2.1.3)\n",
            "Requirement already satisfied: future in /usr/local/lib/python3.10/dist-packages (from related>=0.6.0->kipoi>=0.5.5->kipoiseq) (0.18.3)\n",
            "Requirement already satisfied: chardet>=3.0.2 in /usr/local/lib/python3.10/dist-packages (from binaryornot>=0.4.4->cookiecutter>=1.6.0->kipoi>=0.5.5->kipoiseq) (5.2.0)\n",
            "Requirement already satisfied: text-unidecode>=1.3 in /usr/local/lib/python3.10/dist-packages (from python-slugify>=4.0.0->cookiecutter>=1.6.0->kipoi>=0.5.5->kipoiseq) (1.3)\n",
            "Requirement already satisfied: charset-normalizer<4,>=2 in /usr/local/lib/python3.10/dist-packages (from requests>=2.23.0->cookiecutter>=1.6.0->kipoi>=0.5.5->kipoiseq) (3.2.0)\n",
            "Requirement already satisfied: idna<4,>=2.5 in /usr/local/lib/python3.10/dist-packages (from requests>=2.23.0->cookiecutter>=1.6.0->kipoi>=0.5.5->kipoiseq) (3.4)\n",
            "Requirement already satisfied: certifi>=2017.4.17 in /usr/local/lib/python3.10/dist-packages (from requests>=2.23.0->cookiecutter>=1.6.0->kipoi>=0.5.5->kipoiseq) (2023.7.22)\n",
            "Requirement already satisfied: markdown-it-py>=2.2.0 in /usr/local/lib/python3.10/dist-packages (from rich->cookiecutter>=1.6.0->kipoi>=0.5.5->kipoiseq) (3.0.0)\n",
            "Requirement already satisfied: pygments<3.0.0,>=2.13.0 in /usr/local/lib/python3.10/dist-packages (from rich->cookiecutter>=1.6.0->kipoi>=0.5.5->kipoiseq) (2.16.1)\n",
            "Requirement already satisfied: mdurl~=0.1 in /usr/local/lib/python3.10/dist-packages (from markdown-it-py>=2.2.0->rich->cookiecutter>=1.6.0->kipoi>=0.5.5->kipoiseq) (0.1.2)\n",
            "Installing collected packages: tinydb, sorted-nearest, simplejson, ncls, deprecation, colorlog, binaryornot, attrs, argh, argcomplete, related, gffutils, arrow, pyranges, kipoi-utils, cookiecutter, kipoi-conda, kipoi, kipoiseq\n",
            "  Attempting uninstall: attrs\n",
            "    Found existing installation: attrs 23.1.0\n",
            "    Uninstalling attrs-23.1.0:\n",
            "      Successfully uninstalled attrs-23.1.0\n",
            "\u001b[31mERROR: pip's dependency resolver does not currently take into account all the packages that are installed. This behaviour is the source of the following dependency conflicts.\n",
            "jsonschema 4.19.0 requires attrs>=22.2.0, but you have attrs 21.4.0 which is incompatible.\n",
            "referencing 0.30.2 requires attrs>=22.2.0, but you have attrs 21.4.0 which is incompatible.\u001b[0m\u001b[31m\n",
            "\u001b[0mSuccessfully installed argcomplete-3.1.1 argh-0.28.1 arrow-1.2.3 attrs-21.4.0 binaryornot-0.4.4 colorlog-6.7.0 cookiecutter-2.3.0 deprecation-2.1.0 gffutils-0.12 kipoi-0.8.6 kipoi-conda-0.3.1 kipoi-utils-0.7.7 kipoiseq-0.7.1 ncls-0.0.68 pyranges-0.0.129 related-0.7.3 simplejson-3.19.1 sorted-nearest-0.0.39 tinydb-4.8.0\n",
            "Collecting pytorch_lightning\n",
            "  Downloading pytorch_lightning-2.0.7-py3-none-any.whl (724 kB)\n",
            "\u001b[2K     \u001b[90m━━━━━━━━━━━━━━━━━━━━━━━━━━━━━━━━━━━━━━━\u001b[0m \u001b[32m725.0/725.0 kB\u001b[0m \u001b[31m9.0 MB/s\u001b[0m eta \u001b[36m0:00:00\u001b[0m\n",
            "\u001b[?25hRequirement already satisfied: numpy>=1.17.2 in /usr/local/lib/python3.10/dist-packages (from pytorch_lightning) (1.23.5)\n",
            "Requirement already satisfied: torch>=1.11.0 in /usr/local/lib/python3.10/dist-packages (from pytorch_lightning) (2.0.1+cu118)\n",
            "Requirement already satisfied: tqdm>=4.57.0 in /usr/local/lib/python3.10/dist-packages (from pytorch_lightning) (4.66.1)\n",
            "Requirement already satisfied: PyYAML>=5.4 in /usr/local/lib/python3.10/dist-packages (from pytorch_lightning) (6.0.1)\n",
            "Requirement already satisfied: fsspec[http]>2021.06.0 in /usr/local/lib/python3.10/dist-packages (from pytorch_lightning) (2023.6.0)\n",
            "Collecting torchmetrics>=0.7.0 (from pytorch_lightning)\n",
            "  Downloading torchmetrics-1.1.1-py3-none-any.whl (763 kB)\n",
            "\u001b[2K     \u001b[90m━━━━━━━━━━━━━━━━━━━━━━━━━━━━━━━━━━━━━━\u001b[0m \u001b[32m763.4/763.4 kB\u001b[0m \u001b[31m15.3 MB/s\u001b[0m eta \u001b[36m0:00:00\u001b[0m\n",
            "\u001b[?25hRequirement already satisfied: packaging>=17.1 in /usr/local/lib/python3.10/dist-packages (from pytorch_lightning) (23.1)\n",
            "Requirement already satisfied: typing-extensions>=4.0.0 in /usr/local/lib/python3.10/dist-packages (from pytorch_lightning) (4.7.1)\n",
            "Collecting lightning-utilities>=0.7.0 (from pytorch_lightning)\n",
            "  Downloading lightning_utilities-0.9.0-py3-none-any.whl (23 kB)\n",
            "Requirement already satisfied: requests in /usr/local/lib/python3.10/dist-packages (from fsspec[http]>2021.06.0->pytorch_lightning) (2.31.0)\n",
            "Requirement already satisfied: aiohttp!=4.0.0a0,!=4.0.0a1 in /usr/local/lib/python3.10/dist-packages (from fsspec[http]>2021.06.0->pytorch_lightning) (3.8.5)\n",
            "Requirement already satisfied: filelock in /usr/local/lib/python3.10/dist-packages (from torch>=1.11.0->pytorch_lightning) (3.12.2)\n",
            "Requirement already satisfied: sympy in /usr/local/lib/python3.10/dist-packages (from torch>=1.11.0->pytorch_lightning) (1.12)\n",
            "Requirement already satisfied: networkx in /usr/local/lib/python3.10/dist-packages (from torch>=1.11.0->pytorch_lightning) (3.1)\n",
            "Requirement already satisfied: jinja2 in /usr/local/lib/python3.10/dist-packages (from torch>=1.11.0->pytorch_lightning) (3.1.2)\n",
            "Requirement already satisfied: triton==2.0.0 in /usr/local/lib/python3.10/dist-packages (from torch>=1.11.0->pytorch_lightning) (2.0.0)\n",
            "Requirement already satisfied: cmake in /usr/local/lib/python3.10/dist-packages (from triton==2.0.0->torch>=1.11.0->pytorch_lightning) (3.27.2)\n",
            "Requirement already satisfied: lit in /usr/local/lib/python3.10/dist-packages (from triton==2.0.0->torch>=1.11.0->pytorch_lightning) (16.0.6)\n",
            "Requirement already satisfied: attrs>=17.3.0 in /usr/local/lib/python3.10/dist-packages (from aiohttp!=4.0.0a0,!=4.0.0a1->fsspec[http]>2021.06.0->pytorch_lightning) (21.4.0)\n",
            "Requirement already satisfied: charset-normalizer<4.0,>=2.0 in /usr/local/lib/python3.10/dist-packages (from aiohttp!=4.0.0a0,!=4.0.0a1->fsspec[http]>2021.06.0->pytorch_lightning) (3.2.0)\n",
            "Requirement already satisfied: multidict<7.0,>=4.5 in /usr/local/lib/python3.10/dist-packages (from aiohttp!=4.0.0a0,!=4.0.0a1->fsspec[http]>2021.06.0->pytorch_lightning) (6.0.4)\n",
            "Requirement already satisfied: async-timeout<5.0,>=4.0.0a3 in /usr/local/lib/python3.10/dist-packages (from aiohttp!=4.0.0a0,!=4.0.0a1->fsspec[http]>2021.06.0->pytorch_lightning) (4.0.3)\n",
            "Requirement already satisfied: yarl<2.0,>=1.0 in /usr/local/lib/python3.10/dist-packages (from aiohttp!=4.0.0a0,!=4.0.0a1->fsspec[http]>2021.06.0->pytorch_lightning) (1.9.2)\n",
            "Requirement already satisfied: frozenlist>=1.1.1 in /usr/local/lib/python3.10/dist-packages (from aiohttp!=4.0.0a0,!=4.0.0a1->fsspec[http]>2021.06.0->pytorch_lightning) (1.4.0)\n",
            "Requirement already satisfied: aiosignal>=1.1.2 in /usr/local/lib/python3.10/dist-packages (from aiohttp!=4.0.0a0,!=4.0.0a1->fsspec[http]>2021.06.0->pytorch_lightning) (1.3.1)\n",
            "Requirement already satisfied: MarkupSafe>=2.0 in /usr/local/lib/python3.10/dist-packages (from jinja2->torch>=1.11.0->pytorch_lightning) (2.1.3)\n",
            "Requirement already satisfied: idna<4,>=2.5 in /usr/local/lib/python3.10/dist-packages (from requests->fsspec[http]>2021.06.0->pytorch_lightning) (3.4)\n",
            "Requirement already satisfied: urllib3<3,>=1.21.1 in /usr/local/lib/python3.10/dist-packages (from requests->fsspec[http]>2021.06.0->pytorch_lightning) (2.0.4)\n",
            "Requirement already satisfied: certifi>=2017.4.17 in /usr/local/lib/python3.10/dist-packages (from requests->fsspec[http]>2021.06.0->pytorch_lightning) (2023.7.22)\n",
            "Requirement already satisfied: mpmath>=0.19 in /usr/local/lib/python3.10/dist-packages (from sympy->torch>=1.11.0->pytorch_lightning) (1.3.0)\n",
            "Installing collected packages: lightning-utilities, torchmetrics, pytorch_lightning\n",
            "Successfully installed lightning-utilities-0.9.0 pytorch_lightning-2.0.7 torchmetrics-1.1.1\n",
            "Requirement already satisfied: numpy==1.23.5 in /usr/local/lib/python3.10/dist-packages (1.23.5)\n",
            "  Running command git clone --filter=blob:none --quiet https://github.com/instadeepai/nucleotide-transformer /tmp/pip-req-build-tpch9ihf\n",
            "Successfully installed boto3-1.28.37 botocore-1.31.37 dm-haiku-0.0.10 jmespath-1.0.1 jmp-0.0.4 nucleotide-transformer-0.0.1 s3transfer-0.6.2 urllib3-1.26.16\n"
          ]
        }
      ],
      "source": [
        "##### Installing dependencies\n",
        "!pip install pyfaidx\n",
        "!pip install kipoiseq\n",
        "!pip install pytorch_lightning\n",
        "\n",
        "try:\n",
        "    import nucleotide_transformer\n",
        "except:\n",
        "    !pip install numpy==1.23.5\n",
        "    !pip install git+https://github.com/instadeepai/nucleotide-transformer@main |tail -n 1\n",
        "    import nucleotide_transformer\n",
        "\n",
        "if \"COLAB_TPU_ADDR\" in os.environ:\n",
        "    from jax.tools import colab_tpu\n",
        "\n",
        "    colab_tpu.setup_tpu()"
      ]
    },
    {
      "cell_type": "code",
      "execution_count": 6,
      "id": "f3ead8bf",
      "metadata": {
        "colab": {
          "base_uri": "https://localhost:8080/"
        },
        "id": "f3ead8bf",
        "outputId": "f9fe5402-9ac8-4641-ca33-bf12d5078787"
      },
      "outputs": [
        {
          "output_type": "stream",
          "name": "stderr",
          "text": [
            "WARNING:kipoi_utils.external.related.mixins:Unrecognized fields for DataLoaderDescription: {'postprocessing'}. Available fields are {'info', 'args', 'writers', 'dependencies', 'path', 'type', 'output_schema', 'defined_as'}\n",
            "WARNING:kipoi_utils.external.related.mixins:Unrecognized fields for DataLoaderDescription: {'postprocessing'}. Available fields are {'info', 'args', 'writers', 'dependencies', 'path', 'type', 'output_schema', 'defined_as'}\n",
            "WARNING:kipoi_utils.external.related.mixins:Unrecognized fields for DataLoaderDescription: {'postprocessing'}. Available fields are {'info', 'args', 'writers', 'dependencies', 'path', 'type', 'output_schema', 'defined_as'}\n"
          ]
        }
      ],
      "source": [
        "##### Importing dependencies\n",
        "import sys\n",
        "import torch\n",
        "\n",
        "import numpy as np\n",
        "import pandas as pd\n",
        "\n",
        "import matplotlib.pyplot as plt\n",
        "import seaborn as sb\n",
        "\n",
        "sys.path.append('scripts/seqcipher/')\n",
        "import helpers.dna_cipher_infer as dnaci\n",
        "\n",
        "import importlib as imp\n",
        "import jax\n",
        "\n",
        "import pyfaidx"
      ]
    },
    {
      "cell_type": "code",
      "execution_count": 7,
      "id": "5430e0be",
      "metadata": {
        "id": "5430e0be"
      },
      "outputs": [],
      "source": [
        "#### Paths\n",
        "temp_path = 'data/tutorial_data/tmp/'\n",
        "weights_path = 'data/tutorial_data/TRAINPRECOMPFAST_MEAN_ENCODE_V4_AVG-GENFILT_BATCH1024_LR1e-5_EPOCH300_F1280_SMALL2_NCF6_NAF12_RELU-OUT_PEAK_LESSDROP_model_weights.pth'\n",
        "fasta_file_path = 'data/tutorial_data/tmp/genome.fa'\n",
        "gtex_vars_path = 'data/tutorial_data/gtex_variants_SMALL.vcf'\n",
        "sample_file_path = 'data/tutorial_data/encode_meta_encode_imputable_fixed.train-test.txt'"
      ]
    },
    {
      "cell_type": "markdown",
      "id": "230a633f",
      "metadata": {
        "id": "230a633f"
      },
      "source": [
        "## Checking we are detecting GPU for both JAX and Pytorch"
      ]
    },
    {
      "cell_type": "code",
      "execution_count": 8,
      "id": "0c7d150b",
      "metadata": {
        "id": "0c7d150b"
      },
      "outputs": [],
      "source": [
        "device = 'cuda:0'"
      ]
    },
    {
      "cell_type": "code",
      "execution_count": 9,
      "id": "cec4b4df",
      "metadata": {
        "colab": {
          "base_uri": "https://localhost:8080/"
        },
        "id": "cec4b4df",
        "outputId": "689d9903-61d2-48f1-b074-98a0069293ab"
      },
      "outputs": [
        {
          "output_type": "stream",
          "name": "stdout",
          "text": [
            "JAX backend:  gpu\n",
            "Cuda available:  True\n",
            "Num GPUs Available:  1\n"
          ]
        }
      ],
      "source": [
        "print(\"JAX backend: \", jax.default_backend())\n",
        "print(\"Cuda available: \", torch.cuda.is_available())\n",
        "print(\"Num GPUs Available: \", torch.cuda.device_count())"
      ]
    },
    {
      "cell_type": "markdown",
      "id": "e289b6a2",
      "metadata": {
        "id": "e289b6a2"
      },
      "source": [
        "## Downloading data\n",
        "\n",
        "Download and index the reference genome fasta file\n",
        "\n",
        "Credit to Genome Reference Consortium: https://www.ncbi.nlm.nih.gov/grc\n",
        "\n",
        "Schneider et al 2017 http://dx.doi.org/10.1101/gr.213611.116: Evaluation of GRCh38 and de novo haploid genome assemblies demonstrates the enduring quality of the reference assembly"
      ]
    },
    {
      "cell_type": "code",
      "execution_count": 10,
      "id": "509dd37d",
      "metadata": {
        "colab": {
          "base_uri": "https://localhost:8080/"
        },
        "id": "509dd37d",
        "outputId": "500d929e-c9ca-49b9-85e5-9ccb0c0906ca"
      },
      "outputs": [
        {
          "output_type": "stream",
          "name": "stdout",
          "text": [
            "--2023-08-30 03:35:30--  http://hgdownload.cse.ucsc.edu/goldenPath/hg38/bigZips/hg38.fa.gz\n",
            "Resolving hgdownload.cse.ucsc.edu (hgdownload.cse.ucsc.edu)... 128.114.119.163\n",
            "Connecting to hgdownload.cse.ucsc.edu (hgdownload.cse.ucsc.edu)|128.114.119.163|:80... connected.\n",
            "HTTP request sent, awaiting response... 200 OK\n",
            "Length: 983659424 (938M) [application/x-gzip]\n",
            "Saving to: ‘STDOUT’\n",
            "\n",
            "-                   100%[===================>] 938.09M  35.2MB/s    in 26s     \n",
            "\n",
            "2023-08-30 03:35:56 (36.5 MB/s) - written to stdout [983659424/983659424]\n",
            "\n",
            "genome.fa  genome.fa.fai\n"
          ]
        }
      ],
      "source": [
        "!mkdir -p {temp_path}\n",
        "!wget -O - http://hgdownload.cse.ucsc.edu/goldenPath/hg38/bigZips/hg38.fa.gz | gunzip -c > {fasta_file_path}\n",
        "pyfaidx.Faidx(fasta_file_path)\n",
        "!ls {temp_path}"
      ]
    },
    {
      "cell_type": "markdown",
      "id": "ab948420",
      "metadata": {
        "id": "ab948420"
      },
      "source": [
        "## Loading example GTEX eQTL variant data"
      ]
    },
    {
      "cell_type": "code",
      "execution_count": 11,
      "id": "15d4858d",
      "metadata": {
        "colab": {
          "base_uri": "https://localhost:8080/"
        },
        "id": "15d4858d",
        "outputId": "0eaa4688-4a82-4cd1-ba2e-b7c31d59889d"
      },
      "outputs": [
        {
          "output_type": "execute_result",
          "data": {
            "text/plain": [
              "((49, 8),\n",
              "      CHR       POS REF ALT             GENE_ID  TSS_DIST    SLOPE  \\\n",
              " 0  chr13  50909867   G   C  ENSG00000136104.19       189 -1.88838   \n",
              " 1  chr13  50909048   T   C  ENSG00000136104.19      -630 -1.93409   \n",
              " 2  chr14  24036431   C   T   ENSG00000225766.9       -22 -1.59680   \n",
              " 3  chr13  50909867   G   C  ENSG00000136104.19       189 -1.96015   \n",
              " \n",
              "                      TISSUE  \n",
              " 0      Adipose_Subcutaneous  \n",
              " 1  Adipose_Visceral_Omentum  \n",
              " 2             Adrenal_Gland  \n",
              " 3              Artery_Aorta  )"
            ]
          },
          "metadata": {},
          "execution_count": 11
        }
      ],
      "source": [
        "var_df = pd.read_csv(gtex_vars_path, sep='\\t', header=0)\n",
        "var_df.shape, var_df.head(4)"
      ]
    },
    {
      "cell_type": "markdown",
      "id": "8b1c7d4c",
      "metadata": {
        "id": "8b1c7d4c"
      },
      "source": [
        "## Loading the DNACipher model\n",
        "\n",
        "NOTE that this may take a little time, since need to download the Nucleotide Transform weights and model."
      ]
    },
    {
      "cell_type": "code",
      "execution_count": 12,
      "id": "1c6a1655",
      "metadata": {
        "colab": {
          "base_uri": "https://localhost:8080/"
        },
        "id": "1c6a1655",
        "outputId": "e1aedfde-31f5-4b17-a85f-a538e149d999"
      },
      "outputs": [
        {
          "output_type": "stream",
          "name": "stderr",
          "text": [
            "/root/.cache/nucleotide_transformer/500M_human_ref/hyperparams.json: 100%|██████████| 815/815 [00:00<00:00, 2.78kB/s]\n",
            "/root/.cache/nucleotide_transformer/500M_human_ref/ckpt.joblib: 100%|██████████| 1.94G/1.94G [00:22<00:00, 85.9MB/s]\n"
          ]
        }
      ],
      "source": [
        "dnacipher = dnaci.DNACipher(weights_path, sample_file_path, fasta_file_path, device=device)"
      ]
    },
    {
      "cell_type": "markdown",
      "id": "00afc3fc",
      "metadata": {
        "id": "00afc3fc"
      },
      "source": [
        "## Performing inference on variants.\n",
        "\n",
        "DNACipher offers a few different interfaces to perform inference of variant effects.\n",
        "\n",
        "The most specific function takes as input CHR, POS, REF, ALT and also the CELLTYPE, ASSAY and provides effect prediction.\n",
        "\n",
        "We provide a dictionary below which maps the GTEX tissues to the equivalent ENCODE biosample names:"
      ]
    },
    {
      "cell_type": "code",
      "execution_count": 13,
      "id": "a1a1272e",
      "metadata": {
        "id": "a1a1272e"
      },
      "outputs": [],
      "source": [
        "# GTEX to ENCODE.\n",
        "tissue_map = {\n",
        "    'Adipose_Subcutaneous': ['subcutaneous abdominal adipose tissue'],\n",
        "    'Adipose_Visceral_Omentum': ['omental fat pad'],\n",
        "    'Adrenal_Gland': ['adrenal gland'],\n",
        "    'Artery_Aorta': ['aorta', 'ascending aorta', 'thoracic aorta'],\n",
        "    'Artery_Coronary': ['coronary artery'],\n",
        "    'Artery_Tibial': ['tibial artery'],\n",
        "    'Brain_Amygdala': ['brain'],\n",
        "    'Brain_Anterior_cingulate_cortex_BA24': ['cingulate gyrus'],\n",
        "    'Brain_Caudate_basal_ganglia': ['caudate nucleus'],\n",
        "    'Brain_Cerebellar_Hemisphere': ['cerebellum'],\n",
        "    'Brain_Cerebellum': ['cerebellum'],\n",
        "    'Brain_Cortex': ['brain'],\n",
        "    'Brain_Frontal_Cortex_BA9': ['dorsolateral prefrontal cortex'],\n",
        "    'Brain_Hippocampus': ['layer of hippocampus'],\n",
        "    'Brain_Hypothalamus': ['brain'],\n",
        "    'Brain_Nucleus_accumbens_basal_ganglia': ['brain'],\n",
        "    'Brain_Putamen_basal_ganglia': ['brain'],\n",
        "    'Brain_Spinal_cord_cervical_c-1': ['spinal cord'],\n",
        "    'Brain_Substantia_nigra': ['substantia nigra'],\n",
        "    'Breast_Mammary_Tissue': ['breast epithelium', 'luminal epithelial cell of mammary gland'],\n",
        "    'Cells_Cultured_fibroblasts': ['foreskin fibroblast', 'fibroblast of dermis', 'fibroblast of lung', 'fibroblast of the aortic adventitia'],\n",
        "    'Colon_Sigmoid': ['sigmoid colon'],\n",
        "    'Colon_Transverse': ['transverse colon'],\n",
        "    'Esophagus_Gastroesophageal_Junction': ['gastroesophageal sphincter'],\n",
        "    'Esophagus_Mucosa': ['esophagus squamous epithelium'],\n",
        "    'Esophagus_Muscularis': ['esophagus muscularis mucosa'],\n",
        "    'Heart_Atrial_Appendage': ['right atrium auricular region'],\n",
        "    'Heart_Left_Ventricle': ['heart left ventricle'],\n",
        "    'Kidney_Cortex': ['kidney', 'kidney epithelial cell'],\n",
        "    'Liver': ['liver', 'right lobe of liver'],\n",
        "    'Lung': ['lung', 'left lung', 'right lung'],\n",
        "    'Muscle_Skeletal': ['skeletal muscle tissue', 'muscle of leg', 'muscle of trunk'],\n",
        "    'Nerve_Tibial': ['tibial nerve'],\n",
        "    'Ovary': ['ovary'],\n",
        "    'Pancreas': ['pancreas', 'body of pancreas'],\n",
        "    'Prostate': ['prostate gland'],\n",
        "    'Skin_Not_Sun_Exposed_Suprapubic': ['suprapubic skin'],\n",
        "    'Skin_Sun_Exposed_Lower_leg': ['lower leg skin'],\n",
        "    'Small_Intestine_Terminal_Ileum': ['small intestine'],\n",
        "    'Spleen': ['spleen'],\n",
        "    'Stomach': ['stomach', 'mucosa of stomach'],\n",
        "    'Testis': ['testis'],\n",
        "    'Thyroid': ['thyroid gland'],\n",
        "    'Uterus': ['uterus'],\n",
        "    'Vagina': ['vagina']\n",
        "}"
      ]
    },
    {
      "cell_type": "markdown",
      "id": "928a3796",
      "metadata": {
        "id": "928a3796"
      },
      "source": [
        "## Inferring variant effect in a particular celltype, assay combination"
      ]
    },
    {
      "cell_type": "markdown",
      "id": "7201e833",
      "metadata": {
        "id": "7201e833"
      },
      "source": [
        "***We can then use this map to look up our predicted variant effect sizes.***"
      ]
    },
    {
      "cell_type": "code",
      "execution_count": 14,
      "id": "f383d280",
      "metadata": {
        "colab": {
          "base_uri": "https://localhost:8080/",
          "height": 112
        },
        "id": "f383d280",
        "outputId": "239ea253-a6d2-4394-ce4f-2d14356d28f0"
      },
      "outputs": [
        {
          "output_type": "execute_result",
          "data": {
            "text/plain": [
              "     CHR       POS REF ALT             GENE_ID  TSS_DIST    SLOPE  \\\n",
              "0  chr13  50909867   G   C  ENSG00000136104.19       189 -1.88838   \n",
              "1  chr13  50909048   T   C  ENSG00000136104.19      -630 -1.93409   \n",
              "\n",
              "                     TISSUE  \n",
              "0      Adipose_Subcutaneous  \n",
              "1  Adipose_Visceral_Omentum  "
            ],
            "text/html": [
              "\n",
              "  <div id=\"df-6b5c774c-7b27-473a-ad37-f599f2b33266\" class=\"colab-df-container\">\n",
              "    <div>\n",
              "<style scoped>\n",
              "    .dataframe tbody tr th:only-of-type {\n",
              "        vertical-align: middle;\n",
              "    }\n",
              "\n",
              "    .dataframe tbody tr th {\n",
              "        vertical-align: top;\n",
              "    }\n",
              "\n",
              "    .dataframe thead th {\n",
              "        text-align: right;\n",
              "    }\n",
              "</style>\n",
              "<table border=\"1\" class=\"dataframe\">\n",
              "  <thead>\n",
              "    <tr style=\"text-align: right;\">\n",
              "      <th></th>\n",
              "      <th>CHR</th>\n",
              "      <th>POS</th>\n",
              "      <th>REF</th>\n",
              "      <th>ALT</th>\n",
              "      <th>GENE_ID</th>\n",
              "      <th>TSS_DIST</th>\n",
              "      <th>SLOPE</th>\n",
              "      <th>TISSUE</th>\n",
              "    </tr>\n",
              "  </thead>\n",
              "  <tbody>\n",
              "    <tr>\n",
              "      <th>0</th>\n",
              "      <td>chr13</td>\n",
              "      <td>50909867</td>\n",
              "      <td>G</td>\n",
              "      <td>C</td>\n",
              "      <td>ENSG00000136104.19</td>\n",
              "      <td>189</td>\n",
              "      <td>-1.88838</td>\n",
              "      <td>Adipose_Subcutaneous</td>\n",
              "    </tr>\n",
              "    <tr>\n",
              "      <th>1</th>\n",
              "      <td>chr13</td>\n",
              "      <td>50909048</td>\n",
              "      <td>T</td>\n",
              "      <td>C</td>\n",
              "      <td>ENSG00000136104.19</td>\n",
              "      <td>-630</td>\n",
              "      <td>-1.93409</td>\n",
              "      <td>Adipose_Visceral_Omentum</td>\n",
              "    </tr>\n",
              "  </tbody>\n",
              "</table>\n",
              "</div>\n",
              "    <div class=\"colab-df-buttons\">\n",
              "\n",
              "  <div class=\"colab-df-container\">\n",
              "    <button class=\"colab-df-convert\" onclick=\"convertToInteractive('df-6b5c774c-7b27-473a-ad37-f599f2b33266')\"\n",
              "            title=\"Convert this dataframe to an interactive table.\"\n",
              "            style=\"display:none;\">\n",
              "\n",
              "  <svg xmlns=\"http://www.w3.org/2000/svg\" height=\"24px\" viewBox=\"0 -960 960 960\">\n",
              "    <path d=\"M120-120v-720h720v720H120Zm60-500h600v-160H180v160Zm220 220h160v-160H400v160Zm0 220h160v-160H400v160ZM180-400h160v-160H180v160Zm440 0h160v-160H620v160ZM180-180h160v-160H180v160Zm440 0h160v-160H620v160Z\"/>\n",
              "  </svg>\n",
              "    </button>\n",
              "\n",
              "  <style>\n",
              "    .colab-df-container {\n",
              "      display:flex;\n",
              "      gap: 12px;\n",
              "    }\n",
              "\n",
              "    .colab-df-convert {\n",
              "      background-color: #E8F0FE;\n",
              "      border: none;\n",
              "      border-radius: 50%;\n",
              "      cursor: pointer;\n",
              "      display: none;\n",
              "      fill: #1967D2;\n",
              "      height: 32px;\n",
              "      padding: 0 0 0 0;\n",
              "      width: 32px;\n",
              "    }\n",
              "\n",
              "    .colab-df-convert:hover {\n",
              "      background-color: #E2EBFA;\n",
              "      box-shadow: 0px 1px 2px rgba(60, 64, 67, 0.3), 0px 1px 3px 1px rgba(60, 64, 67, 0.15);\n",
              "      fill: #174EA6;\n",
              "    }\n",
              "\n",
              "    .colab-df-buttons div {\n",
              "      margin-bottom: 4px;\n",
              "    }\n",
              "\n",
              "    [theme=dark] .colab-df-convert {\n",
              "      background-color: #3B4455;\n",
              "      fill: #D2E3FC;\n",
              "    }\n",
              "\n",
              "    [theme=dark] .colab-df-convert:hover {\n",
              "      background-color: #434B5C;\n",
              "      box-shadow: 0px 1px 3px 1px rgba(0, 0, 0, 0.15);\n",
              "      filter: drop-shadow(0px 1px 2px rgba(0, 0, 0, 0.3));\n",
              "      fill: #FFFFFF;\n",
              "    }\n",
              "  </style>\n",
              "\n",
              "    <script>\n",
              "      const buttonEl =\n",
              "        document.querySelector('#df-6b5c774c-7b27-473a-ad37-f599f2b33266 button.colab-df-convert');\n",
              "      buttonEl.style.display =\n",
              "        google.colab.kernel.accessAllowed ? 'block' : 'none';\n",
              "\n",
              "      async function convertToInteractive(key) {\n",
              "        const element = document.querySelector('#df-6b5c774c-7b27-473a-ad37-f599f2b33266');\n",
              "        const dataTable =\n",
              "          await google.colab.kernel.invokeFunction('convertToInteractive',\n",
              "                                                    [key], {});\n",
              "        if (!dataTable) return;\n",
              "\n",
              "        const docLinkHtml = 'Like what you see? Visit the ' +\n",
              "          '<a target=\"_blank\" href=https://colab.research.google.com/notebooks/data_table.ipynb>data table notebook</a>'\n",
              "          + ' to learn more about interactive tables.';\n",
              "        element.innerHTML = '';\n",
              "        dataTable['output_type'] = 'display_data';\n",
              "        await google.colab.output.renderOutput(dataTable, element);\n",
              "        const docLink = document.createElement('div');\n",
              "        docLink.innerHTML = docLinkHtml;\n",
              "        element.appendChild(docLink);\n",
              "      }\n",
              "    </script>\n",
              "  </div>\n",
              "\n",
              "    </div>\n",
              "  </div>\n"
            ]
          },
          "metadata": {},
          "execution_count": 14
        }
      ],
      "source": [
        "var_df.head(2)"
      ]
    },
    {
      "cell_type": "code",
      "execution_count": 15,
      "id": "78cc7600",
      "metadata": {
        "colab": {
          "base_uri": "https://localhost:8080/"
        },
        "id": "78cc7600",
        "outputId": "b40bc282-5476-40d9-9fed-00217b7300b1"
      },
      "outputs": [
        {
          "output_type": "execute_result",
          "data": {
            "text/plain": [
              "('chr13', 50909867, 'G', 'C')"
            ]
          },
          "metadata": {},
          "execution_count": 15
        }
      ],
      "source": [
        "chr_, pos, ref, alt = var_df.values[0, 0:4]\n",
        "chr_, pos, ref, alt"
      ]
    },
    {
      "cell_type": "markdown",
      "id": "82bf03df",
      "metadata": {
        "id": "82bf03df"
      },
      "source": [
        "We can see that the gene associated with this eQTL is on the positive strand:\n",
        "https://asia.ensembl.org/Homo_sapiens/Gene/Summary?g=ENSG00000136104;r=13:50909747-51024120\n",
        "\n",
        "So we should focus on positive-strand RNA-seq signal for the equivalent cell type:"
      ]
    },
    {
      "cell_type": "code",
      "execution_count": 16,
      "id": "0a5fb444",
      "metadata": {
        "colab": {
          "base_uri": "https://localhost:8080/",
          "height": 35
        },
        "id": "0a5fb444",
        "outputId": "be258ab1-86c8-4769-83ec-8b182e874543"
      },
      "outputs": [
        {
          "output_type": "execute_result",
          "data": {
            "text/plain": [
              "'subcutaneous abdominal adipose tissue'"
            ],
            "application/vnd.google.colaboratory.intrinsic+json": {
              "type": "string"
            }
          },
          "metadata": {},
          "execution_count": 16
        }
      ],
      "source": [
        "celltype = tissue_map[var_df.values[0, 7]][0]\n",
        "celltype"
      ]
    },
    {
      "cell_type": "code",
      "execution_count": 17,
      "id": "63605735",
      "metadata": {
        "colab": {
          "base_uri": "https://localhost:8080/"
        },
        "id": "63605735",
        "outputId": "a36198a6-a9b0-4084-c73f-7cfcbce9ce26"
      },
      "outputs": [
        {
          "output_type": "execute_result",
          "data": {
            "text/plain": [
              "array(['ATAC-seq', 'ATF2_ChIP-seq', 'ATF3_ChIP-seq', 'ATF7_ChIP-seq',\n",
              "       'BHLHE40_ChIP-seq', 'BRCA1_ChIP-seq', 'CEBPB_ChIP-seq',\n",
              "       'CHD1_ChIP-seq', 'CHD2_ChIP-seq', 'CREB1_ChIP-seq',\n",
              "       'CTCF_ChIP-seq', 'DNase-seq', 'E2F1_ChIP-seq', 'E2F4_ChIP-seq',\n",
              "       'EGR1_ChIP-seq', 'ELF1_ChIP-seq', 'ELK1_ChIP-seq',\n",
              "       'EP300_ChIP-seq', 'ESRRA_ChIP-seq', 'EZH2_ChIP-seq',\n",
              "       'EZH2phosphoT487_ChIP-seq', 'FOSL2_ChIP-seq', 'FOXA1_ChIP-seq',\n",
              "       'FOXJ3_ChIP-seq', 'FOXK2_ChIP-seq', 'FOXM1_ChIP-seq',\n",
              "       'GABPA_ChIP-seq', 'GATA2_ChIP-seq', 'GTF2F1_ChIP-seq',\n",
              "       'H2AFZ_ChIP-seq', 'H3F3A_ChIP-seq', 'H3K27ac_ChIP-seq',\n",
              "       'H3K27me3_ChIP-seq', 'H3K36me3_ChIP-seq', 'H3K4me1_ChIP-seq',\n",
              "       'H3K4me2_ChIP-seq', 'H3K4me3_ChIP-seq', 'H3K79me2_ChIP-seq',\n",
              "       'H3K9ac_ChIP-seq', 'H3K9me2_ChIP-seq', 'H3K9me3_ChIP-seq',\n",
              "       'H4K20me1_ChIP-seq', 'HCFC1_ChIP-seq', 'HDAC2_ChIP-seq',\n",
              "       'HDAC6_ChIP-seq', 'JUNB_ChIP-seq', 'JUND_ChIP-seq', 'JUN_ChIP-seq',\n",
              "       'KDM1A_ChIP-seq', 'MAFK_ChIP-seq', 'MAX_ChIP-seq', 'MAZ_ChIP-seq',\n",
              "       'MXI1_ChIP-seq', 'MYC_ChIP-seq', 'NFIC_ChIP-seq', 'NR2C2_ChIP-seq',\n",
              "       'NRF1_ChIP-seq', 'PBX3_ChIP-seq', 'PHF8_ChIP-seq',\n",
              "       'POLR2A_ChIP-seq', 'POLR2AphosphoS2_ChIP-seq',\n",
              "       'POLR2AphosphoS5_ChIP-seq', 'RAD21_ChIP-seq', 'RCOR1_ChIP-seq',\n",
              "       'REST_ChIP-seq', 'RFX5_ChIP-seq', 'RXRA_ChIP-seq',\n",
              "       'SIN3A_ChIP-seq', 'SMC3_ChIP-seq', 'SP1_ChIP-seq', 'SRF_ChIP-seq',\n",
              "       'SUZ12_ChIP-seq', 'TAF1_ChIP-seq', 'TARDBP_ChIP-seq',\n",
              "       'TBP_ChIP-seq', 'TCF12_ChIP-seq', 'TCF7L2_ChIP-seq',\n",
              "       'TEAD4_ChIP-seq', 'UBTF_ChIP-seq', 'USF1_ChIP-seq',\n",
              "       'USF2_ChIP-seq', 'YY1_ChIP-seq', 'ZBTB33_ChIP-seq',\n",
              "       'ZFP36_ChIP-seq', 'ZFX_ChIP-seq', 'ZNF143_ChIP-seq',\n",
              "       'ZNF24_ChIP-seq', 'ZNF274_ChIP-seq', 'ZZZ3_ChIP-seq',\n",
              "       'minus strand polyA minus RNA-seq',\n",
              "       'minus strand polyA plus RNA-seq', 'minus strand total RNA-seq',\n",
              "       'plus strand polyA minus RNA-seq',\n",
              "       'plus strand polyA plus RNA-seq', 'plus strand total RNA-seq',\n",
              "       'signal of polyA plus RNA-seq'], dtype='<U32')"
            ]
          },
          "metadata": {},
          "execution_count": 17
        }
      ],
      "source": [
        "np.array(dnacipher.assays)"
      ]
    },
    {
      "cell_type": "code",
      "execution_count": null,
      "id": "07fbed6e",
      "metadata": {
        "id": "07fbed6e"
      },
      "outputs": [],
      "source": [
        "?dnacipher.infer_specific_effect"
      ]
    },
    {
      "cell_type": "code",
      "execution_count": 18,
      "id": "834a7c6e",
      "metadata": {
        "id": "834a7c6e"
      },
      "outputs": [],
      "source": [
        "pred_effect = dnacipher.infer_specific_effect(chr_, pos, ref, alt, celltype, 'plus strand polyA plus RNA-seq',\n",
        "                                              # The positions are 1-based indexing, so have to indicate this\n",
        "                                              index_base=1\n",
        "                                             )"
      ]
    },
    {
      "cell_type": "code",
      "execution_count": 19,
      "id": "0046d37c",
      "metadata": {
        "id": "0046d37c"
      },
      "outputs": [],
      "source": [
        "pred_effect2 = dnacipher.infer_specific_effect(chr_, pos, ref, alt, celltype, 'plus strand total RNA-seq',\n",
        "                                              # The positions are 1-based indexing, so have to indicate this\n",
        "                                              index_base=1\n",
        "                                             )"
      ]
    },
    {
      "cell_type": "code",
      "execution_count": 20,
      "id": "680b251a",
      "metadata": {
        "id": "680b251a"
      },
      "outputs": [],
      "source": [
        "pred_effect3 = dnacipher.infer_specific_effect(chr_, pos, ref, alt, celltype, 'signal of polyA plus RNA-seq',\n",
        "                                              # The positions are 1-based indexing, so have to indicate this\n",
        "                                              index_base=1\n",
        "                                             )"
      ]
    },
    {
      "cell_type": "code",
      "execution_count": 21,
      "id": "e3e4d19c",
      "metadata": {
        "colab": {
          "base_uri": "https://localhost:8080/"
        },
        "id": "e3e4d19c",
        "outputId": "27fd6c41-827c-48d3-b530-feaa41a03305"
      },
      "outputs": [
        {
          "output_type": "execute_result",
          "data": {
            "text/plain": [
              "(0.0, 0.0, 0.0)"
            ]
          },
          "metadata": {},
          "execution_count": 21
        }
      ],
      "source": [
        "### NO predicted effect for this variant on the celltype-specific RNA-seq\n",
        "pred_effect, pred_effect2, pred_effect3"
      ]
    },
    {
      "cell_type": "markdown",
      "id": "e04dd996",
      "metadata": {
        "id": "e04dd996"
      },
      "source": [
        "## Inferring variant effect across celltype, assay combinations"
      ]
    },
    {
      "cell_type": "code",
      "execution_count": null,
      "id": "f45da2e4",
      "metadata": {
        "id": "f45da2e4"
      },
      "outputs": [],
      "source": [
        "?dnacipher.infer_effects"
      ]
    },
    {
      "cell_type": "code",
      "execution_count": 22,
      "id": "77ed9316",
      "metadata": {
        "id": "77ed9316"
      },
      "outputs": [],
      "source": [
        "pred_effects = dnacipher.infer_effects(chr_, pos, ref, alt,\n",
        "                                              # The positions are 1-based indexing, so have to indicate this\n",
        "                                              index_base=1\n",
        "                                             )"
      ]
    },
    {
      "cell_type": "code",
      "execution_count": 23,
      "id": "fc18e2fb",
      "metadata": {
        "colab": {
          "base_uri": "https://localhost:8080/",
          "height": 635
        },
        "id": "fc18e2fb",
        "outputId": "2c080980-e4a2-4a3b-9324-46ac603e65d4"
      },
      "outputs": [
        {
          "output_type": "execute_result",
          "data": {
            "text/plain": [
              "                          ATAC-seq  ATF2_ChIP-seq  ATF3_ChIP-seq  \\\n",
              "A549                     -0.000281            0.0            0.0   \n",
              "A673                      0.000360            0.0            0.0   \n",
              "ACC112                    0.001011            0.0            0.0   \n",
              "AG04450                   0.000079            0.0            0.0   \n",
              "B cell                   -0.000412            0.0            0.0   \n",
              "...                            ...            ...            ...   \n",
              "upper lobe of left lung  -0.000121            0.0            0.0   \n",
              "upper lobe of right lung  0.000029            0.0            0.0   \n",
              "urinary bladder           0.001081            0.0            0.0   \n",
              "uterus                    0.000381            0.0            0.0   \n",
              "vagina                   -0.000062            0.0            0.0   \n",
              "\n",
              "                          ATF7_ChIP-seq  BHLHE40_ChIP-seq  BRCA1_ChIP-seq  \\\n",
              "A549                                0.0               0.0             0.0   \n",
              "A673                                0.0               0.0             0.0   \n",
              "ACC112                              0.0               0.0             0.0   \n",
              "AG04450                             0.0               0.0             0.0   \n",
              "B cell                              0.0               0.0             0.0   \n",
              "...                                 ...               ...             ...   \n",
              "upper lobe of left lung             0.0               0.0             0.0   \n",
              "upper lobe of right lung            0.0               0.0             0.0   \n",
              "urinary bladder                     0.0               0.0             0.0   \n",
              "uterus                              0.0               0.0             0.0   \n",
              "vagina                              0.0               0.0             0.0   \n",
              "\n",
              "                          CEBPB_ChIP-seq  CHD1_ChIP-seq  CHD2_ChIP-seq  \\\n",
              "A549                            0.000000            0.0            0.0   \n",
              "A673                            0.005077            0.0            0.0   \n",
              "ACC112                          0.000000            0.0            0.0   \n",
              "AG04450                         0.004267            0.0            0.0   \n",
              "B cell                          0.004260            0.0            0.0   \n",
              "...                                  ...            ...            ...   \n",
              "upper lobe of left lung         0.004411            0.0            0.0   \n",
              "upper lobe of right lung        0.004868            0.0            0.0   \n",
              "urinary bladder                 0.000000            0.0            0.0   \n",
              "uterus                          0.000000            0.0            0.0   \n",
              "vagina                          0.000000            0.0            0.0   \n",
              "\n",
              "                          CREB1_ChIP-seq  ...  ZNF24_ChIP-seq  \\\n",
              "A549                            0.008596  ...             0.0   \n",
              "A673                            0.009977  ...             0.0   \n",
              "ACC112                          0.009888  ...             0.0   \n",
              "AG04450                         0.009473  ...             0.0   \n",
              "B cell                          0.009131  ...             0.0   \n",
              "...                                  ...  ...             ...   \n",
              "upper lobe of left lung         0.009236  ...             0.0   \n",
              "upper lobe of right lung        0.009321  ...             0.0   \n",
              "urinary bladder                 0.000000  ...             0.0   \n",
              "uterus                          0.000000  ...             0.0   \n",
              "vagina                          0.000000  ...             0.0   \n",
              "\n",
              "                          ZNF274_ChIP-seq  ZZZ3_ChIP-seq  \\\n",
              "A549                                  0.0            0.0   \n",
              "A673                                  0.0            0.0   \n",
              "ACC112                                0.0            0.0   \n",
              "AG04450                               0.0            0.0   \n",
              "B cell                                0.0            0.0   \n",
              "...                                   ...            ...   \n",
              "upper lobe of left lung               0.0            0.0   \n",
              "upper lobe of right lung              0.0            0.0   \n",
              "urinary bladder                       0.0            0.0   \n",
              "uterus                                0.0            0.0   \n",
              "vagina                                0.0            0.0   \n",
              "\n",
              "                          minus strand polyA minus RNA-seq  \\\n",
              "A549                                                   0.0   \n",
              "A673                                                   0.0   \n",
              "ACC112                                                 0.0   \n",
              "AG04450                                                0.0   \n",
              "B cell                                                 0.0   \n",
              "...                                                    ...   \n",
              "upper lobe of left lung                                0.0   \n",
              "upper lobe of right lung                               0.0   \n",
              "urinary bladder                                        0.0   \n",
              "uterus                                                 0.0   \n",
              "vagina                                                 0.0   \n",
              "\n",
              "                          minus strand polyA plus RNA-seq  \\\n",
              "A549                                                  0.0   \n",
              "A673                                                  0.0   \n",
              "ACC112                                                0.0   \n",
              "AG04450                                               0.0   \n",
              "B cell                                                0.0   \n",
              "...                                                   ...   \n",
              "upper lobe of left lung                               0.0   \n",
              "upper lobe of right lung                              0.0   \n",
              "urinary bladder                                       0.0   \n",
              "uterus                                                0.0   \n",
              "vagina                                                0.0   \n",
              "\n",
              "                          minus strand total RNA-seq  \\\n",
              "A549                                             0.0   \n",
              "A673                                             0.0   \n",
              "ACC112                                           0.0   \n",
              "AG04450                                          0.0   \n",
              "B cell                                           0.0   \n",
              "...                                              ...   \n",
              "upper lobe of left lung                          0.0   \n",
              "upper lobe of right lung                         0.0   \n",
              "urinary bladder                                  0.0   \n",
              "uterus                                           0.0   \n",
              "vagina                                           0.0   \n",
              "\n",
              "                          plus strand polyA minus RNA-seq  \\\n",
              "A549                                                  0.0   \n",
              "A673                                                  0.0   \n",
              "ACC112                                                0.0   \n",
              "AG04450                                               0.0   \n",
              "B cell                                                0.0   \n",
              "...                                                   ...   \n",
              "upper lobe of left lung                               0.0   \n",
              "upper lobe of right lung                              0.0   \n",
              "urinary bladder                                       0.0   \n",
              "uterus                                                0.0   \n",
              "vagina                                                0.0   \n",
              "\n",
              "                          plus strand polyA plus RNA-seq  \\\n",
              "A549                                                 0.0   \n",
              "A673                                                 0.0   \n",
              "ACC112                                               0.0   \n",
              "AG04450                                              0.0   \n",
              "B cell                                               0.0   \n",
              "...                                                  ...   \n",
              "upper lobe of left lung                              0.0   \n",
              "upper lobe of right lung                             0.0   \n",
              "urinary bladder                                      0.0   \n",
              "uterus                                               0.0   \n",
              "vagina                                               0.0   \n",
              "\n",
              "                          plus strand total RNA-seq  \\\n",
              "A549                                            0.0   \n",
              "A673                                            0.0   \n",
              "ACC112                                          0.0   \n",
              "AG04450                                         0.0   \n",
              "B cell                                          0.0   \n",
              "...                                             ...   \n",
              "upper lobe of left lung                         0.0   \n",
              "upper lobe of right lung                        0.0   \n",
              "urinary bladder                                 0.0   \n",
              "uterus                                          0.0   \n",
              "vagina                                          0.0   \n",
              "\n",
              "                          signal of polyA plus RNA-seq  \n",
              "A549                                               0.0  \n",
              "A673                                               0.0  \n",
              "ACC112                                             0.0  \n",
              "AG04450                                            0.0  \n",
              "B cell                                             0.0  \n",
              "...                                                ...  \n",
              "upper lobe of left lung                            0.0  \n",
              "upper lobe of right lung                           0.0  \n",
              "urinary bladder                                    0.0  \n",
              "uterus                                             0.0  \n",
              "vagina                                             0.0  \n",
              "\n",
              "[191 rows x 96 columns]"
            ],
            "text/html": [
              "\n",
              "  <div id=\"df-047b3291-a0ba-4e58-aee5-f2a311370d83\" class=\"colab-df-container\">\n",
              "    <div>\n",
              "<style scoped>\n",
              "    .dataframe tbody tr th:only-of-type {\n",
              "        vertical-align: middle;\n",
              "    }\n",
              "\n",
              "    .dataframe tbody tr th {\n",
              "        vertical-align: top;\n",
              "    }\n",
              "\n",
              "    .dataframe thead th {\n",
              "        text-align: right;\n",
              "    }\n",
              "</style>\n",
              "<table border=\"1\" class=\"dataframe\">\n",
              "  <thead>\n",
              "    <tr style=\"text-align: right;\">\n",
              "      <th></th>\n",
              "      <th>ATAC-seq</th>\n",
              "      <th>ATF2_ChIP-seq</th>\n",
              "      <th>ATF3_ChIP-seq</th>\n",
              "      <th>ATF7_ChIP-seq</th>\n",
              "      <th>BHLHE40_ChIP-seq</th>\n",
              "      <th>BRCA1_ChIP-seq</th>\n",
              "      <th>CEBPB_ChIP-seq</th>\n",
              "      <th>CHD1_ChIP-seq</th>\n",
              "      <th>CHD2_ChIP-seq</th>\n",
              "      <th>CREB1_ChIP-seq</th>\n",
              "      <th>...</th>\n",
              "      <th>ZNF24_ChIP-seq</th>\n",
              "      <th>ZNF274_ChIP-seq</th>\n",
              "      <th>ZZZ3_ChIP-seq</th>\n",
              "      <th>minus strand polyA minus RNA-seq</th>\n",
              "      <th>minus strand polyA plus RNA-seq</th>\n",
              "      <th>minus strand total RNA-seq</th>\n",
              "      <th>plus strand polyA minus RNA-seq</th>\n",
              "      <th>plus strand polyA plus RNA-seq</th>\n",
              "      <th>plus strand total RNA-seq</th>\n",
              "      <th>signal of polyA plus RNA-seq</th>\n",
              "    </tr>\n",
              "  </thead>\n",
              "  <tbody>\n",
              "    <tr>\n",
              "      <th>A549</th>\n",
              "      <td>-0.000281</td>\n",
              "      <td>0.0</td>\n",
              "      <td>0.0</td>\n",
              "      <td>0.0</td>\n",
              "      <td>0.0</td>\n",
              "      <td>0.0</td>\n",
              "      <td>0.000000</td>\n",
              "      <td>0.0</td>\n",
              "      <td>0.0</td>\n",
              "      <td>0.008596</td>\n",
              "      <td>...</td>\n",
              "      <td>0.0</td>\n",
              "      <td>0.0</td>\n",
              "      <td>0.0</td>\n",
              "      <td>0.0</td>\n",
              "      <td>0.0</td>\n",
              "      <td>0.0</td>\n",
              "      <td>0.0</td>\n",
              "      <td>0.0</td>\n",
              "      <td>0.0</td>\n",
              "      <td>0.0</td>\n",
              "    </tr>\n",
              "    <tr>\n",
              "      <th>A673</th>\n",
              "      <td>0.000360</td>\n",
              "      <td>0.0</td>\n",
              "      <td>0.0</td>\n",
              "      <td>0.0</td>\n",
              "      <td>0.0</td>\n",
              "      <td>0.0</td>\n",
              "      <td>0.005077</td>\n",
              "      <td>0.0</td>\n",
              "      <td>0.0</td>\n",
              "      <td>0.009977</td>\n",
              "      <td>...</td>\n",
              "      <td>0.0</td>\n",
              "      <td>0.0</td>\n",
              "      <td>0.0</td>\n",
              "      <td>0.0</td>\n",
              "      <td>0.0</td>\n",
              "      <td>0.0</td>\n",
              "      <td>0.0</td>\n",
              "      <td>0.0</td>\n",
              "      <td>0.0</td>\n",
              "      <td>0.0</td>\n",
              "    </tr>\n",
              "    <tr>\n",
              "      <th>ACC112</th>\n",
              "      <td>0.001011</td>\n",
              "      <td>0.0</td>\n",
              "      <td>0.0</td>\n",
              "      <td>0.0</td>\n",
              "      <td>0.0</td>\n",
              "      <td>0.0</td>\n",
              "      <td>0.000000</td>\n",
              "      <td>0.0</td>\n",
              "      <td>0.0</td>\n",
              "      <td>0.009888</td>\n",
              "      <td>...</td>\n",
              "      <td>0.0</td>\n",
              "      <td>0.0</td>\n",
              "      <td>0.0</td>\n",
              "      <td>0.0</td>\n",
              "      <td>0.0</td>\n",
              "      <td>0.0</td>\n",
              "      <td>0.0</td>\n",
              "      <td>0.0</td>\n",
              "      <td>0.0</td>\n",
              "      <td>0.0</td>\n",
              "    </tr>\n",
              "    <tr>\n",
              "      <th>AG04450</th>\n",
              "      <td>0.000079</td>\n",
              "      <td>0.0</td>\n",
              "      <td>0.0</td>\n",
              "      <td>0.0</td>\n",
              "      <td>0.0</td>\n",
              "      <td>0.0</td>\n",
              "      <td>0.004267</td>\n",
              "      <td>0.0</td>\n",
              "      <td>0.0</td>\n",
              "      <td>0.009473</td>\n",
              "      <td>...</td>\n",
              "      <td>0.0</td>\n",
              "      <td>0.0</td>\n",
              "      <td>0.0</td>\n",
              "      <td>0.0</td>\n",
              "      <td>0.0</td>\n",
              "      <td>0.0</td>\n",
              "      <td>0.0</td>\n",
              "      <td>0.0</td>\n",
              "      <td>0.0</td>\n",
              "      <td>0.0</td>\n",
              "    </tr>\n",
              "    <tr>\n",
              "      <th>B cell</th>\n",
              "      <td>-0.000412</td>\n",
              "      <td>0.0</td>\n",
              "      <td>0.0</td>\n",
              "      <td>0.0</td>\n",
              "      <td>0.0</td>\n",
              "      <td>0.0</td>\n",
              "      <td>0.004260</td>\n",
              "      <td>0.0</td>\n",
              "      <td>0.0</td>\n",
              "      <td>0.009131</td>\n",
              "      <td>...</td>\n",
              "      <td>0.0</td>\n",
              "      <td>0.0</td>\n",
              "      <td>0.0</td>\n",
              "      <td>0.0</td>\n",
              "      <td>0.0</td>\n",
              "      <td>0.0</td>\n",
              "      <td>0.0</td>\n",
              "      <td>0.0</td>\n",
              "      <td>0.0</td>\n",
              "      <td>0.0</td>\n",
              "    </tr>\n",
              "    <tr>\n",
              "      <th>...</th>\n",
              "      <td>...</td>\n",
              "      <td>...</td>\n",
              "      <td>...</td>\n",
              "      <td>...</td>\n",
              "      <td>...</td>\n",
              "      <td>...</td>\n",
              "      <td>...</td>\n",
              "      <td>...</td>\n",
              "      <td>...</td>\n",
              "      <td>...</td>\n",
              "      <td>...</td>\n",
              "      <td>...</td>\n",
              "      <td>...</td>\n",
              "      <td>...</td>\n",
              "      <td>...</td>\n",
              "      <td>...</td>\n",
              "      <td>...</td>\n",
              "      <td>...</td>\n",
              "      <td>...</td>\n",
              "      <td>...</td>\n",
              "      <td>...</td>\n",
              "    </tr>\n",
              "    <tr>\n",
              "      <th>upper lobe of left lung</th>\n",
              "      <td>-0.000121</td>\n",
              "      <td>0.0</td>\n",
              "      <td>0.0</td>\n",
              "      <td>0.0</td>\n",
              "      <td>0.0</td>\n",
              "      <td>0.0</td>\n",
              "      <td>0.004411</td>\n",
              "      <td>0.0</td>\n",
              "      <td>0.0</td>\n",
              "      <td>0.009236</td>\n",
              "      <td>...</td>\n",
              "      <td>0.0</td>\n",
              "      <td>0.0</td>\n",
              "      <td>0.0</td>\n",
              "      <td>0.0</td>\n",
              "      <td>0.0</td>\n",
              "      <td>0.0</td>\n",
              "      <td>0.0</td>\n",
              "      <td>0.0</td>\n",
              "      <td>0.0</td>\n",
              "      <td>0.0</td>\n",
              "    </tr>\n",
              "    <tr>\n",
              "      <th>upper lobe of right lung</th>\n",
              "      <td>0.000029</td>\n",
              "      <td>0.0</td>\n",
              "      <td>0.0</td>\n",
              "      <td>0.0</td>\n",
              "      <td>0.0</td>\n",
              "      <td>0.0</td>\n",
              "      <td>0.004868</td>\n",
              "      <td>0.0</td>\n",
              "      <td>0.0</td>\n",
              "      <td>0.009321</td>\n",
              "      <td>...</td>\n",
              "      <td>0.0</td>\n",
              "      <td>0.0</td>\n",
              "      <td>0.0</td>\n",
              "      <td>0.0</td>\n",
              "      <td>0.0</td>\n",
              "      <td>0.0</td>\n",
              "      <td>0.0</td>\n",
              "      <td>0.0</td>\n",
              "      <td>0.0</td>\n",
              "      <td>0.0</td>\n",
              "    </tr>\n",
              "    <tr>\n",
              "      <th>urinary bladder</th>\n",
              "      <td>0.001081</td>\n",
              "      <td>0.0</td>\n",
              "      <td>0.0</td>\n",
              "      <td>0.0</td>\n",
              "      <td>0.0</td>\n",
              "      <td>0.0</td>\n",
              "      <td>0.000000</td>\n",
              "      <td>0.0</td>\n",
              "      <td>0.0</td>\n",
              "      <td>0.000000</td>\n",
              "      <td>...</td>\n",
              "      <td>0.0</td>\n",
              "      <td>0.0</td>\n",
              "      <td>0.0</td>\n",
              "      <td>0.0</td>\n",
              "      <td>0.0</td>\n",
              "      <td>0.0</td>\n",
              "      <td>0.0</td>\n",
              "      <td>0.0</td>\n",
              "      <td>0.0</td>\n",
              "      <td>0.0</td>\n",
              "    </tr>\n",
              "    <tr>\n",
              "      <th>uterus</th>\n",
              "      <td>0.000381</td>\n",
              "      <td>0.0</td>\n",
              "      <td>0.0</td>\n",
              "      <td>0.0</td>\n",
              "      <td>0.0</td>\n",
              "      <td>0.0</td>\n",
              "      <td>0.000000</td>\n",
              "      <td>0.0</td>\n",
              "      <td>0.0</td>\n",
              "      <td>0.000000</td>\n",
              "      <td>...</td>\n",
              "      <td>0.0</td>\n",
              "      <td>0.0</td>\n",
              "      <td>0.0</td>\n",
              "      <td>0.0</td>\n",
              "      <td>0.0</td>\n",
              "      <td>0.0</td>\n",
              "      <td>0.0</td>\n",
              "      <td>0.0</td>\n",
              "      <td>0.0</td>\n",
              "      <td>0.0</td>\n",
              "    </tr>\n",
              "    <tr>\n",
              "      <th>vagina</th>\n",
              "      <td>-0.000062</td>\n",
              "      <td>0.0</td>\n",
              "      <td>0.0</td>\n",
              "      <td>0.0</td>\n",
              "      <td>0.0</td>\n",
              "      <td>0.0</td>\n",
              "      <td>0.000000</td>\n",
              "      <td>0.0</td>\n",
              "      <td>0.0</td>\n",
              "      <td>0.000000</td>\n",
              "      <td>...</td>\n",
              "      <td>0.0</td>\n",
              "      <td>0.0</td>\n",
              "      <td>0.0</td>\n",
              "      <td>0.0</td>\n",
              "      <td>0.0</td>\n",
              "      <td>0.0</td>\n",
              "      <td>0.0</td>\n",
              "      <td>0.0</td>\n",
              "      <td>0.0</td>\n",
              "      <td>0.0</td>\n",
              "    </tr>\n",
              "  </tbody>\n",
              "</table>\n",
              "<p>191 rows × 96 columns</p>\n",
              "</div>\n",
              "    <div class=\"colab-df-buttons\">\n",
              "\n",
              "  <div class=\"colab-df-container\">\n",
              "    <button class=\"colab-df-convert\" onclick=\"convertToInteractive('df-047b3291-a0ba-4e58-aee5-f2a311370d83')\"\n",
              "            title=\"Convert this dataframe to an interactive table.\"\n",
              "            style=\"display:none;\">\n",
              "\n",
              "  <svg xmlns=\"http://www.w3.org/2000/svg\" height=\"24px\" viewBox=\"0 -960 960 960\">\n",
              "    <path d=\"M120-120v-720h720v720H120Zm60-500h600v-160H180v160Zm220 220h160v-160H400v160Zm0 220h160v-160H400v160ZM180-400h160v-160H180v160Zm440 0h160v-160H620v160ZM180-180h160v-160H180v160Zm440 0h160v-160H620v160Z\"/>\n",
              "  </svg>\n",
              "    </button>\n",
              "\n",
              "  <style>\n",
              "    .colab-df-container {\n",
              "      display:flex;\n",
              "      gap: 12px;\n",
              "    }\n",
              "\n",
              "    .colab-df-convert {\n",
              "      background-color: #E8F0FE;\n",
              "      border: none;\n",
              "      border-radius: 50%;\n",
              "      cursor: pointer;\n",
              "      display: none;\n",
              "      fill: #1967D2;\n",
              "      height: 32px;\n",
              "      padding: 0 0 0 0;\n",
              "      width: 32px;\n",
              "    }\n",
              "\n",
              "    .colab-df-convert:hover {\n",
              "      background-color: #E2EBFA;\n",
              "      box-shadow: 0px 1px 2px rgba(60, 64, 67, 0.3), 0px 1px 3px 1px rgba(60, 64, 67, 0.15);\n",
              "      fill: #174EA6;\n",
              "    }\n",
              "\n",
              "    .colab-df-buttons div {\n",
              "      margin-bottom: 4px;\n",
              "    }\n",
              "\n",
              "    [theme=dark] .colab-df-convert {\n",
              "      background-color: #3B4455;\n",
              "      fill: #D2E3FC;\n",
              "    }\n",
              "\n",
              "    [theme=dark] .colab-df-convert:hover {\n",
              "      background-color: #434B5C;\n",
              "      box-shadow: 0px 1px 3px 1px rgba(0, 0, 0, 0.15);\n",
              "      filter: drop-shadow(0px 1px 2px rgba(0, 0, 0, 0.3));\n",
              "      fill: #FFFFFF;\n",
              "    }\n",
              "  </style>\n",
              "\n",
              "    <script>\n",
              "      const buttonEl =\n",
              "        document.querySelector('#df-047b3291-a0ba-4e58-aee5-f2a311370d83 button.colab-df-convert');\n",
              "      buttonEl.style.display =\n",
              "        google.colab.kernel.accessAllowed ? 'block' : 'none';\n",
              "\n",
              "      async function convertToInteractive(key) {\n",
              "        const element = document.querySelector('#df-047b3291-a0ba-4e58-aee5-f2a311370d83');\n",
              "        const dataTable =\n",
              "          await google.colab.kernel.invokeFunction('convertToInteractive',\n",
              "                                                    [key], {});\n",
              "        if (!dataTable) return;\n",
              "\n",
              "        const docLinkHtml = 'Like what you see? Visit the ' +\n",
              "          '<a target=\"_blank\" href=https://colab.research.google.com/notebooks/data_table.ipynb>data table notebook</a>'\n",
              "          + ' to learn more about interactive tables.';\n",
              "        element.innerHTML = '';\n",
              "        dataTable['output_type'] = 'display_data';\n",
              "        await google.colab.output.renderOutput(dataTable, element);\n",
              "        const docLink = document.createElement('div');\n",
              "        docLink.innerHTML = docLinkHtml;\n",
              "        element.appendChild(docLink);\n",
              "      }\n",
              "    </script>\n",
              "  </div>\n",
              "\n",
              "\n",
              "<div id=\"df-68d11db5-14c9-4b32-bc5a-fb640fc6a3c8\">\n",
              "  <button class=\"colab-df-quickchart\" onclick=\"quickchart('df-68d11db5-14c9-4b32-bc5a-fb640fc6a3c8')\"\n",
              "            title=\"Suggest charts.\"\n",
              "            style=\"display:none;\">\n",
              "\n",
              "<svg xmlns=\"http://www.w3.org/2000/svg\" height=\"24px\"viewBox=\"0 0 24 24\"\n",
              "     width=\"24px\">\n",
              "    <g>\n",
              "        <path d=\"M19 3H5c-1.1 0-2 .9-2 2v14c0 1.1.9 2 2 2h14c1.1 0 2-.9 2-2V5c0-1.1-.9-2-2-2zM9 17H7v-7h2v7zm4 0h-2V7h2v10zm4 0h-2v-4h2v4z\"/>\n",
              "    </g>\n",
              "</svg>\n",
              "  </button>\n",
              "\n",
              "<style>\n",
              "  .colab-df-quickchart {\n",
              "    background-color: #E8F0FE;\n",
              "    border: none;\n",
              "    border-radius: 50%;\n",
              "    cursor: pointer;\n",
              "    display: none;\n",
              "    fill: #1967D2;\n",
              "    height: 32px;\n",
              "    padding: 0 0 0 0;\n",
              "    width: 32px;\n",
              "  }\n",
              "\n",
              "  .colab-df-quickchart:hover {\n",
              "    background-color: #E2EBFA;\n",
              "    box-shadow: 0px 1px 2px rgba(60, 64, 67, 0.3), 0px 1px 3px 1px rgba(60, 64, 67, 0.15);\n",
              "    fill: #174EA6;\n",
              "  }\n",
              "\n",
              "  [theme=dark] .colab-df-quickchart {\n",
              "    background-color: #3B4455;\n",
              "    fill: #D2E3FC;\n",
              "  }\n",
              "\n",
              "  [theme=dark] .colab-df-quickchart:hover {\n",
              "    background-color: #434B5C;\n",
              "    box-shadow: 0px 1px 3px 1px rgba(0, 0, 0, 0.15);\n",
              "    filter: drop-shadow(0px 1px 2px rgba(0, 0, 0, 0.3));\n",
              "    fill: #FFFFFF;\n",
              "  }\n",
              "</style>\n",
              "\n",
              "  <script>\n",
              "    async function quickchart(key) {\n",
              "      const charts = await google.colab.kernel.invokeFunction(\n",
              "          'suggestCharts', [key], {});\n",
              "    }\n",
              "    (() => {\n",
              "      let quickchartButtonEl =\n",
              "        document.querySelector('#df-68d11db5-14c9-4b32-bc5a-fb640fc6a3c8 button');\n",
              "      quickchartButtonEl.style.display =\n",
              "        google.colab.kernel.accessAllowed ? 'block' : 'none';\n",
              "    })();\n",
              "  </script>\n",
              "</div>\n",
              "    </div>\n",
              "  </div>\n"
            ]
          },
          "metadata": {},
          "execution_count": 23
        }
      ],
      "source": [
        "pred_effects"
      ]
    },
    {
      "cell_type": "code",
      "execution_count": 24,
      "id": "c7a240d0",
      "metadata": {
        "colab": {
          "base_uri": "https://localhost:8080/",
          "height": 652
        },
        "id": "c7a240d0",
        "outputId": "eb9e47b6-55eb-4a4e-a9f0-af58c82f7e96"
      },
      "outputs": [
        {
          "output_type": "display_data",
          "data": {
            "text/plain": [
              "<Figure size 640x480 with 2 Axes>"
            ],
            "image/png": "[encoded data removed]"
          },
          "metadata": {}
        }
      ],
      "source": [
        "min_, max_ = pred_effects.values.min(), pred_effects.values.max()\n",
        "range_ = max([abs(min_), abs(max_)])\n",
        "\n",
        "sb.heatmap(pred_effects, cmap='PiYG', vmin=-range_, vmax=range_)\n",
        "plt.show()"
      ]
    },
    {
      "cell_type": "markdown",
      "id": "cdd3e3c8",
      "metadata": {
        "id": "cdd3e3c8"
      },
      "source": [
        "## Inferring effects across a set of variants for all celltype, assays"
      ]
    },
    {
      "cell_type": "code",
      "execution_count": null,
      "id": "aa33c0a5",
      "metadata": {
        "id": "aa33c0a5"
      },
      "outputs": [],
      "source": [
        "?dnacipher.infer_multivariant_effects"
      ]
    },
    {
      "cell_type": "code",
      "execution_count": 25,
      "id": "93fd4454",
      "metadata": {
        "colab": {
          "base_uri": "https://localhost:8080/",
          "height": 143
        },
        "id": "93fd4454",
        "outputId": "07f11462-98c5-401e-c24f-09c72d59d1e8"
      },
      "outputs": [
        {
          "output_type": "execute_result",
          "data": {
            "text/plain": [
              "     CHR       POS REF ALT             GENE_ID  TSS_DIST    SLOPE  \\\n",
              "0  chr13  50909867   G   C  ENSG00000136104.19       189 -1.88838   \n",
              "1  chr13  50909048   T   C  ENSG00000136104.19      -630 -1.93409   \n",
              "2  chr14  24036431   C   T   ENSG00000225766.9       -22 -1.59680   \n",
              "\n",
              "                     TISSUE  \n",
              "0      Adipose_Subcutaneous  \n",
              "1  Adipose_Visceral_Omentum  \n",
              "2             Adrenal_Gland  "
            ],
            "text/html": [
              "\n",
              "  <div id=\"df-f58636ed-aa94-492f-9c07-f5d169a4815b\" class=\"colab-df-container\">\n",
              "    <div>\n",
              "<style scoped>\n",
              "    .dataframe tbody tr th:only-of-type {\n",
              "        vertical-align: middle;\n",
              "    }\n",
              "\n",
              "    .dataframe tbody tr th {\n",
              "        vertical-align: top;\n",
              "    }\n",
              "\n",
              "    .dataframe thead th {\n",
              "        text-align: right;\n",
              "    }\n",
              "</style>\n",
              "<table border=\"1\" class=\"dataframe\">\n",
              "  <thead>\n",
              "    <tr style=\"text-align: right;\">\n",
              "      <th></th>\n",
              "      <th>CHR</th>\n",
              "      <th>POS</th>\n",
              "      <th>REF</th>\n",
              "      <th>ALT</th>\n",
              "      <th>GENE_ID</th>\n",
              "      <th>TSS_DIST</th>\n",
              "      <th>SLOPE</th>\n",
              "      <th>TISSUE</th>\n",
              "    </tr>\n",
              "  </thead>\n",
              "  <tbody>\n",
              "    <tr>\n",
              "      <th>0</th>\n",
              "      <td>chr13</td>\n",
              "      <td>50909867</td>\n",
              "      <td>G</td>\n",
              "      <td>C</td>\n",
              "      <td>ENSG00000136104.19</td>\n",
              "      <td>189</td>\n",
              "      <td>-1.88838</td>\n",
              "      <td>Adipose_Subcutaneous</td>\n",
              "    </tr>\n",
              "    <tr>\n",
              "      <th>1</th>\n",
              "      <td>chr13</td>\n",
              "      <td>50909048</td>\n",
              "      <td>T</td>\n",
              "      <td>C</td>\n",
              "      <td>ENSG00000136104.19</td>\n",
              "      <td>-630</td>\n",
              "      <td>-1.93409</td>\n",
              "      <td>Adipose_Visceral_Omentum</td>\n",
              "    </tr>\n",
              "    <tr>\n",
              "      <th>2</th>\n",
              "      <td>chr14</td>\n",
              "      <td>24036431</td>\n",
              "      <td>C</td>\n",
              "      <td>T</td>\n",
              "      <td>ENSG00000225766.9</td>\n",
              "      <td>-22</td>\n",
              "      <td>-1.59680</td>\n",
              "      <td>Adrenal_Gland</td>\n",
              "    </tr>\n",
              "  </tbody>\n",
              "</table>\n",
              "</div>\n",
              "    <div class=\"colab-df-buttons\">\n",
              "\n",
              "  <div class=\"colab-df-container\">\n",
              "    <button class=\"colab-df-convert\" onclick=\"convertToInteractive('df-f58636ed-aa94-492f-9c07-f5d169a4815b')\"\n",
              "            title=\"Convert this dataframe to an interactive table.\"\n",
              "            style=\"display:none;\">\n",
              "\n",
              "  <svg xmlns=\"http://www.w3.org/2000/svg\" height=\"24px\" viewBox=\"0 -960 960 960\">\n",
              "    <path d=\"M120-120v-720h720v720H120Zm60-500h600v-160H180v160Zm220 220h160v-160H400v160Zm0 220h160v-160H400v160ZM180-400h160v-160H180v160Zm440 0h160v-160H620v160ZM180-180h160v-160H180v160Zm440 0h160v-160H620v160Z\"/>\n",
              "  </svg>\n",
              "    </button>\n",
              "\n",
              "  <style>\n",
              "    .colab-df-container {\n",
              "      display:flex;\n",
              "      gap: 12px;\n",
              "    }\n",
              "\n",
              "    .colab-df-convert {\n",
              "      background-color: #E8F0FE;\n",
              "      border: none;\n",
              "      border-radius: 50%;\n",
              "      cursor: pointer;\n",
              "      display: none;\n",
              "      fill: #1967D2;\n",
              "      height: 32px;\n",
              "      padding: 0 0 0 0;\n",
              "      width: 32px;\n",
              "    }\n",
              "\n",
              "    .colab-df-convert:hover {\n",
              "      background-color: #E2EBFA;\n",
              "      box-shadow: 0px 1px 2px rgba(60, 64, 67, 0.3), 0px 1px 3px 1px rgba(60, 64, 67, 0.15);\n",
              "      fill: #174EA6;\n",
              "    }\n",
              "\n",
              "    .colab-df-buttons div {\n",
              "      margin-bottom: 4px;\n",
              "    }\n",
              "\n",
              "    [theme=dark] .colab-df-convert {\n",
              "      background-color: #3B4455;\n",
              "      fill: #D2E3FC;\n",
              "    }\n",
              "\n",
              "    [theme=dark] .colab-df-convert:hover {\n",
              "      background-color: #434B5C;\n",
              "      box-shadow: 0px 1px 3px 1px rgba(0, 0, 0, 0.15);\n",
              "      filter: drop-shadow(0px 1px 2px rgba(0, 0, 0, 0.3));\n",
              "      fill: #FFFFFF;\n",
              "    }\n",
              "  </style>\n",
              "\n",
              "    <script>\n",
              "      const buttonEl =\n",
              "        document.querySelector('#df-f58636ed-aa94-492f-9c07-f5d169a4815b button.colab-df-convert');\n",
              "      buttonEl.style.display =\n",
              "        google.colab.kernel.accessAllowed ? 'block' : 'none';\n",
              "\n",
              "      async function convertToInteractive(key) {\n",
              "        const element = document.querySelector('#df-f58636ed-aa94-492f-9c07-f5d169a4815b');\n",
              "        const dataTable =\n",
              "          await google.colab.kernel.invokeFunction('convertToInteractive',\n",
              "                                                    [key], {});\n",
              "        if (!dataTable) return;\n",
              "\n",
              "        const docLinkHtml = 'Like what you see? Visit the ' +\n",
              "          '<a target=\"_blank\" href=https://colab.research.google.com/notebooks/data_table.ipynb>data table notebook</a>'\n",
              "          + ' to learn more about interactive tables.';\n",
              "        element.innerHTML = '';\n",
              "        dataTable['output_type'] = 'display_data';\n",
              "        await google.colab.output.renderOutput(dataTable, element);\n",
              "        const docLink = document.createElement('div');\n",
              "        docLink.innerHTML = docLinkHtml;\n",
              "        element.appendChild(docLink);\n",
              "      }\n",
              "    </script>\n",
              "  </div>\n",
              "\n",
              "    </div>\n",
              "  </div>\n"
            ]
          },
          "metadata": {},
          "execution_count": 25
        }
      ],
      "source": [
        "var_df.head(3)"
      ]
    },
    {
      "cell_type": "code",
      "execution_count": 26,
      "id": "9990f350",
      "metadata": {
        "colab": {
          "base_uri": "https://localhost:8080/"
        },
        "id": "9990f350",
        "outputId": "3f0e19ab-a6e7-40ff-b32a-77afebd0da8c"
      },
      "outputs": [
        {
          "output_type": "stream",
          "name": "stdout",
          "text": [
            "PROCESSED 0/3 variants.\n",
            "PROCESSED 3/3 variants.\n"
          ]
        }
      ],
      "source": [
        "var_pred_effects = dnacipher.infer_multivariant_effects(var_df.head(3),\n",
        "                                              # The positions are 1-based indexing, so have to indicate this\n",
        "                                              index_base=1\n",
        "                                             )"
      ]
    },
    {
      "cell_type": "code",
      "execution_count": 27,
      "id": "8fc78d8a",
      "metadata": {
        "colab": {
          "base_uri": "https://localhost:8080/"
        },
        "id": "8fc78d8a",
        "outputId": "e91a58a6-f531-413d-95b4-56de3c63e03b"
      },
      "outputs": [
        {
          "output_type": "execute_result",
          "data": {
            "text/plain": [
              "((3, 18336),\n",
              "                     A549---ATAC-seq  A549---ATF2_ChIP-seq  \\\n",
              " chr13_50909867_G_C        -0.000281                   0.0   \n",
              " chr13_50909048_T_C        -0.005339                   0.0   \n",
              " chr14_24036431_C_T         0.019702                   0.0   \n",
              " \n",
              "                     A549---ATF3_ChIP-seq  A549---ATF7_ChIP-seq  \\\n",
              " chr13_50909867_G_C                   0.0                   0.0   \n",
              " chr13_50909048_T_C                   0.0                   0.0   \n",
              " chr14_24036431_C_T                   0.0                   0.0   \n",
              " \n",
              "                     A549---BHLHE40_ChIP-seq  A549---BRCA1_ChIP-seq  \\\n",
              " chr13_50909867_G_C                      0.0                    0.0   \n",
              " chr13_50909048_T_C                      0.0                    0.0   \n",
              " chr14_24036431_C_T                      0.0                    0.0   \n",
              " \n",
              "                     A549---CEBPB_ChIP-seq  A549---CHD1_ChIP-seq  \\\n",
              " chr13_50909867_G_C                    0.0                   0.0   \n",
              " chr13_50909048_T_C                    0.0                   0.0   \n",
              " chr14_24036431_C_T                    0.0                   0.0   \n",
              " \n",
              "                     A549---CHD2_ChIP-seq  A549---CREB1_ChIP-seq  \n",
              " chr13_50909867_G_C                   0.0               0.008596  \n",
              " chr13_50909048_T_C                   0.0              -0.001464  \n",
              " chr14_24036431_C_T                   0.0               0.000000  )"
            ]
          },
          "metadata": {},
          "execution_count": 27
        }
      ],
      "source": [
        "var_pred_effects.shape, var_pred_effects.iloc[:, 0:10]"
      ]
    },
    {
      "cell_type": "markdown",
      "id": "f45c170d",
      "metadata": {
        "id": "f45c170d"
      },
      "source": [
        "***We can use reshaping to visualise a specific variants effects:***"
      ]
    },
    {
      "cell_type": "code",
      "execution_count": 28,
      "id": "f5b45ed9",
      "metadata": {
        "id": "f5b45ed9"
      },
      "outputs": [],
      "source": [
        "var0_pred_effects = var_pred_effects.values[0,:].reshape(len(dnacipher.celltypes), len(dnacipher.assays))\n",
        "var0_pred_effects = pd.DataFrame(var0_pred_effects, index=dnacipher.celltypes, columns=dnacipher.assays)"
      ]
    },
    {
      "cell_type": "code",
      "execution_count": 29,
      "id": "f0644767",
      "metadata": {
        "colab": {
          "base_uri": "https://localhost:8080/",
          "height": 652
        },
        "id": "f0644767",
        "outputId": "7d0a9e97-e785-436c-f5af-37d47ac93fca"
      },
      "outputs": [
        {
          "output_type": "display_data",
          "data": {
            "text/plain": [
              "<Figure size 640x480 with 2 Axes>"
            ],
            "image/png": "[encoded data removed]"
          },
          "metadata": {}
        }
      ],
      "source": [
        "min_, max_ = var0_pred_effects.values.min(), var0_pred_effects.values.max()\n",
        "range_ = max([abs(min_), abs(max_)])\n",
        "\n",
        "sb.heatmap(var0_pred_effects, cmap='PiYG', vmin=-range_, vmax=range_)\n",
        "plt.show()"
      ]
    },
    {
      "cell_type": "markdown",
      "source": [
        "***DONE*** More features to come..."
      ],
      "metadata": {
        "id": "oO67LH_VhWxI"
      },
      "id": "oO67LH_VhWxI"
    }
  ],
  "metadata": {
    "kernelspec": {
      "display_name": "Python 3",
      "name": "python3"
    },
    "language_info": {
      "codemirror_mode": {
        "name": "ipython",
        "version": 3
      },
      "file_extension": ".py",
      "mimetype": "text/x-python",
      "name": "python",
      "nbconvert_exporter": "python",
      "pygments_lexer": "ipython3",
      "version": "3.8.13"
    },
    "colab": {
      "provenance": [],
      "machine_shape": "hm",
      "gpuType": "A100"
    },
    "accelerator": "GPU"
  },
  "nbformat": 4,
  "nbformat_minor": 5
}